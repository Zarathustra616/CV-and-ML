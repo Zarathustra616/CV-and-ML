{
  "nbformat": 4,
  "nbformat_minor": 0,
  "metadata": {
    "colab": {
      "name": "VGG-Diplom.ipynb",
      "provenance": [],
      "collapsed_sections": [],
      "include_colab_link": true
    },
    "kernelspec": {
      "name": "python3",
      "display_name": "Python 3"
    },
    "accelerator": "GPU"
  },
  "cells": [
    {
      "cell_type": "markdown",
      "metadata": {
        "id": "view-in-github",
        "colab_type": "text"
      },
      "source": [
        "<a href=\"https://colab.research.google.com/github/Zarathustra616/CV-and-ML/blob/main/VGG_Diplom.ipynb\" target=\"_parent\"><img src=\"https://colab.research.google.com/assets/colab-badge.svg\" alt=\"Open In Colab\"/></a>"
      ]
    },
    {
      "cell_type": "code",
      "metadata": {
        "id": "otQOLQ3do3tE",
        "colab": {
          "base_uri": "https://localhost:8080/"
        },
        "outputId": "9b9548a4-e3ce-4d18-afa0-ac878bd512c1"
      },
      "source": [
        "# Ищем видяху Tesla P100-PCIE-16GB\n",
        "!cat /proc/driver/nvidia/gpus/0000:00:04.0/information"
      ],
      "execution_count": null,
      "outputs": [
        {
          "output_type": "stream",
          "text": [
            "Model: \t\t Tesla K80\n",
            "IRQ:   \t\t 35\n",
            "GPU UUID: \t GPU-fc64f613-402e-a95d-098f-d230bd2f7b5c\n",
            "Video BIOS: \t 80.21.25.00.02\n",
            "Bus Type: \t PCI\n",
            "DMA Size: \t 40 bits\n",
            "DMA Mask: \t 0xffffffffff\n",
            "Bus Location: \t 0000:00:04.0\n",
            "Device Minor: \t 0\n",
            "Blacklisted:\t No\n"
          ],
          "name": "stdout"
        }
      ]
    },
    {
      "cell_type": "code",
      "metadata": {
        "id": "Qy3nxdAud9am",
        "colab": {
          "base_uri": "https://localhost:8080/"
        },
        "outputId": "04de3726-d7c3-4320-b596-865684fdf1d1"
      },
      "source": [
        "!pip install -U git+https://github.com/albu/albumentations > /dev/null && echo \"All libraries are successfully installed!\""
      ],
      "execution_count": null,
      "outputs": [
        {
          "output_type": "stream",
          "text": [
            "  Running command git clone -q https://github.com/albu/albumentations /tmp/pip-req-build-f0ufelx5\n",
            "All libraries are successfully installed!\n"
          ],
          "name": "stdout"
        }
      ]
    },
    {
      "cell_type": "code",
      "metadata": {
        "id": "_LLBfMJdd-vO",
        "colab": {
          "base_uri": "https://localhost:8080/"
        },
        "outputId": "c17711d4-ae9c-410c-d004-3923dcc8f2e7"
      },
      "source": [
        "!pip install git+https://github.com/mjkvaak/ImageDataAugmentor"
      ],
      "execution_count": null,
      "outputs": [
        {
          "output_type": "stream",
          "text": [
            "Collecting git+https://github.com/mjkvaak/ImageDataAugmentor\n",
            "  Cloning https://github.com/mjkvaak/ImageDataAugmentor to /tmp/pip-req-build-bine_qli\n",
            "  Running command git clone -q https://github.com/mjkvaak/ImageDataAugmentor /tmp/pip-req-build-bine_qli\n",
            "Collecting opencv-python>=4.2\n",
            "\u001b[?25l  Downloading https://files.pythonhosted.org/packages/35/7c/353c4e264a688a292ac4886cca5747ad8858452cede431f7fcd6fb26abe7/opencv_python-4.5.2.52-cp37-cp37m-manylinux2014_x86_64.whl (51.0MB)\n",
            "\u001b[K     |████████████████████████████████| 51.0MB 59kB/s \n",
            "\u001b[?25hRequirement already satisfied: matplotlib in /usr/local/lib/python3.7/dist-packages (from ImageDataAugmentor==0.0.0) (3.2.2)\n",
            "Requirement already satisfied: Pillow in /usr/local/lib/python3.7/dist-packages (from ImageDataAugmentor==0.0.0) (7.1.2)\n",
            "Requirement already satisfied: scipy in /usr/local/lib/python3.7/dist-packages (from ImageDataAugmentor==0.0.0) (1.4.1)\n",
            "Requirement already satisfied: pandas in /usr/local/lib/python3.7/dist-packages (from ImageDataAugmentor==0.0.0) (1.1.5)\n",
            "Requirement already satisfied: numpy>=1.14.5 in /usr/local/lib/python3.7/dist-packages (from opencv-python>=4.2->ImageDataAugmentor==0.0.0) (1.19.5)\n",
            "Requirement already satisfied: python-dateutil>=2.1 in /usr/local/lib/python3.7/dist-packages (from matplotlib->ImageDataAugmentor==0.0.0) (2.8.1)\n",
            "Requirement already satisfied: kiwisolver>=1.0.1 in /usr/local/lib/python3.7/dist-packages (from matplotlib->ImageDataAugmentor==0.0.0) (1.3.1)\n",
            "Requirement already satisfied: cycler>=0.10 in /usr/local/lib/python3.7/dist-packages (from matplotlib->ImageDataAugmentor==0.0.0) (0.10.0)\n",
            "Requirement already satisfied: pyparsing!=2.0.4,!=2.1.2,!=2.1.6,>=2.0.1 in /usr/local/lib/python3.7/dist-packages (from matplotlib->ImageDataAugmentor==0.0.0) (2.4.7)\n",
            "Requirement already satisfied: pytz>=2017.2 in /usr/local/lib/python3.7/dist-packages (from pandas->ImageDataAugmentor==0.0.0) (2018.9)\n",
            "Requirement already satisfied: six>=1.5 in /usr/local/lib/python3.7/dist-packages (from python-dateutil>=2.1->matplotlib->ImageDataAugmentor==0.0.0) (1.15.0)\n",
            "Building wheels for collected packages: ImageDataAugmentor\n",
            "  Building wheel for ImageDataAugmentor (setup.py) ... \u001b[?25l\u001b[?25hdone\n",
            "  Created wheel for ImageDataAugmentor: filename=ImageDataAugmentor-0.0.0-cp37-none-any.whl size=29530 sha256=ccd44baecbe4846d448973ee165dbcb95ddec06eb454b2a2b3c96954b0152d7b\n",
            "  Stored in directory: /tmp/pip-ephem-wheel-cache-bl_xfp7u/wheels/d9/10/55/6fca35a4072f87d694876d56ece64db3846cf45e1da1c381fe\n",
            "Successfully built ImageDataAugmentor\n",
            "\u001b[31mERROR: albumentations 0.1.12 has requirement imgaug<0.2.7,>=0.2.5, but you'll have imgaug 0.2.9 which is incompatible.\u001b[0m\n",
            "Installing collected packages: opencv-python, ImageDataAugmentor\n",
            "  Found existing installation: opencv-python 4.1.2.30\n",
            "    Uninstalling opencv-python-4.1.2.30:\n",
            "      Successfully uninstalled opencv-python-4.1.2.30\n",
            "Successfully installed ImageDataAugmentor-0.0.0 opencv-python-4.5.2.52\n"
          ],
          "name": "stdout"
        }
      ]
    },
    {
      "cell_type": "code",
      "metadata": {
        "id": "Qyo8TxjIpDAa",
        "colab": {
          "base_uri": "https://localhost:8080/"
        },
        "outputId": "62e35e30-7f79-4c4a-97c0-8753bbc2589d"
      },
      "source": [
        "from google.colab import drive\n",
        "drive.mount('/content/gdrive')"
      ],
      "execution_count": null,
      "outputs": [
        {
          "output_type": "stream",
          "text": [
            "Mounted at /content/gdrive\n"
          ],
          "name": "stdout"
        }
      ]
    },
    {
      "cell_type": "code",
      "metadata": {
        "id": "SP61yqLgtHaY"
      },
      "source": [
        "!unzip /content/gdrive/'My Drive'/colab/with_mask.zip -d /content/\n",
        "!unzip /content/gdrive/'My Drive'/colab/without_mask.zip -d /content/"
      ],
      "execution_count": null,
      "outputs": []
    },
    {
      "cell_type": "code",
      "metadata": {
        "id": "J37ddLAPtlk6"
      },
      "source": [
        "import io\n",
        "import os\n",
        "import numpy as np\n",
        "from PIL import Image\n",
        "from matplotlib import pyplot as plt\n",
        "from typing import Optional, Tuple, List, Union\n",
        "\n",
        "from tensorflow.keras.preprocessing.image import load_img, img_to_array, ImageDataGenerator\n",
        "from tensorflow.keras.applications.vgg16 import preprocess_input\n",
        "from tensorflow.keras.models import load_model\n",
        "\n",
        "from tensorflow.keras.models import Model, Sequential\n",
        "from tensorflow.keras.layers import Dense, Dropout, Conv2D, MaxPooling2D, ZeroPadding2D, GlobalMaxPooling2D\n",
        "\n",
        "from tensorflow.keras.optimizers import SGD\n",
        "from tensorflow.keras.callbacks import ReduceLROnPlateau, ModelCheckpoint, TensorBoard\n",
        "from tensorflow.keras import initializers\n",
        "from tensorflow.keras.utils import to_categorical\n",
        "\n",
        "from sklearn.preprocessing import LabelBinarizer\n",
        "from sklearn.model_selection import train_test_split\n",
        "\n",
        "from ImageDataAugmentor.image_data_augmentor import *\n",
        "from albumentations import Compose, HorizontalFlip, Rotate"
      ],
      "execution_count": null,
      "outputs": []
    },
    {
      "cell_type": "code",
      "metadata": {
        "id": "4HwNlNpBhpCT"
      },
      "source": [
        "from tensorflow.keras.preprocessing.image import ImageDataGenerator\n",
        "from tensorflow.keras.applications import MobileNetV2, VGG19, VGG16\n",
        "from tensorflow.keras.layers import AveragePooling2D\n",
        "from tensorflow.keras.layers import Dropout\n",
        "from tensorflow.keras.layers import Flatten\n",
        "from tensorflow.keras.layers import Dense\n",
        "from tensorflow.keras.layers import Input\n",
        "from tensorflow.keras.models import Model\n",
        "from tensorflow.keras.optimizers import Adam\n",
        "from tensorflow.keras.applications.mobilenet_v2 import preprocess_input\n",
        "from tensorflow.keras.preprocessing.image import img_to_array\n",
        "from tensorflow.keras.preprocessing.image import load_img\n",
        "from tensorflow.keras.utils import to_categorical\n",
        "from sklearn.preprocessing import LabelBinarizer\n",
        "from sklearn.model_selection import train_test_split\n",
        "from sklearn.metrics import classification_report"
      ],
      "execution_count": null,
      "outputs": []
    },
    {
      "cell_type": "code",
      "metadata": {
        "id": "USZdDdqQt8zw"
      },
      "source": [
        "def preprocessing_img(label: Optional[str], data: List[Image.Image], labels: List[str], path_imgs: Optional[str], size: Tuple[int, int]) -> None:\n",
        "  \"\"\"Подготавливает изображения для нейронной сети \"\"\"  \n",
        "  #Получает список всех изображений\n",
        "  path_dir = os.listdir(path_imgs)\n",
        "  #imagePath: Проходит по всем изображениям\n",
        "  for imagePath in path_dir:\n",
        "    # Загружает изображение из заданной папки\n",
        "    image = load_img(path_imgs+imagePath, target_size=size)\n",
        "    # Преобразует в массив numpy\n",
        "    image = img_to_array(image)\n",
        "    # Преобразует для подачи в нейронку VGG16  \n",
        "    image = preprocess_input(image)\n",
        "    #Заполняет list массивами\n",
        "    data.append(image)\n",
        "    labels.append(label)\n",
        "  print('---Ready---> ' + label)"
      ],
      "execution_count": null,
      "outputs": []
    },
    {
      "cell_type": "code",
      "metadata": {
        "id": "gIp1fT62edOs"
      },
      "source": [
        "def augmentation_imgs(p: Optional[int]=0.5):\n",
        "  \"\"\"Создание дополнительных изображений\"\"\" \n",
        "  return Compose([\n",
        "        HorizontalFlip(),                           # HorizontalFlip: повернутых горизонтально\n",
        "        Rotate(limit=(-15, 15),border_mode=0),      # Rotate: вращение на 15 градусов\n",
        "  ], p=p)                                           # р: вероятность изменения изрображения"
      ],
      "execution_count": null,
      "outputs": []
    },
    {
      "cell_type": "code",
      "metadata": {
        "id": "WtdiSqP7uFUc"
      },
      "source": [
        "path = dict(mask='/content/with_mask/',\n",
        "            no_mask='/content/without_mask/',\n",
        "            image='/content/j2ApoXbK30c.jpg',\n",
        "            deploy='/content/gdrive/My Drive/colab/face_detector/deploy.prototxt',\n",
        "            res_10='/content/gdrive/My Drive/colab/face_detector/res10_300x300_ssd_iter_140000.caffemodel')"
      ],
      "execution_count": null,
      "outputs": []
    },
    {
      "cell_type": "code",
      "metadata": {
        "id": "YcW7Kdopt811",
        "colab": {
          "base_uri": "https://localhost:8080/"
        },
        "outputId": "8b0549bd-206b-45b7-fd47-19234a3f85bf"
      },
      "source": [
        "data = []\n",
        "labels = []\n",
        "preprocessing_img('with_mask', data, labels, path['mask'], (224, 224))\n",
        "preprocessing_img('without_mask', data, labels, path['no_mask'], (224, 224))"
      ],
      "execution_count": null,
      "outputs": [
        {
          "output_type": "stream",
          "text": [
            "---Ready---> with_mask\n",
            "---Ready---> without_mask\n"
          ],
          "name": "stdout"
        }
      ]
    },
    {
      "cell_type": "code",
      "metadata": {
        "id": "VdBQAhOyiyI4"
      },
      "source": [
        "# Создает Тензор \n",
        "# >>> data.shape\n",
        "# >>> (5000, 224, 224, 3) Попробовать больше 5к\n",
        "data = np.array(data[:5000], dtype=\"float32\")\n",
        "labels = np.array(labels[:5000])\n",
        "\n",
        "# Преобразует название в классы 0 и 1\n",
        "lb = LabelBinarizer()\n",
        "labels = lb.fit_transform(labels)\n",
        "labels = to_categorical(labels)"
      ],
      "execution_count": null,
      "outputs": []
    },
    {
      "cell_type": "code",
      "metadata": {
        "id": "UHqks7sNt838"
      },
      "source": [
        "#Разбиваем на тренировку и проверку в пропорции 0.8 и 0.2\n",
        "(X_train, X_test, y_train, y_test) = train_test_split(data, labels, test_size=0.20, stratify=labels, random_state=42)\n",
        "#Освобождаем память для найшей сессии\n",
        "data = []"
      ],
      "execution_count": null,
      "outputs": []
    },
    {
      "cell_type": "code",
      "metadata": {
        "id": "pveTAdJFxaW4"
      },
      "source": [
        "# Генератор дополнительных данных\n",
        "aug = ImageDataAugmentor(augment=augmentation_imgs())\n",
        "# Просмотр дополнительных данных\n",
        "aug_show = aug.flow(X_train, y_train, batch_size=32)\n",
        "# aug_show.show_batch()"
      ],
      "execution_count": null,
      "outputs": []
    },
    {
      "cell_type": "markdown",
      "metadata": {
        "id": "rLzFHRcKyRf2"
      },
      "source": [
        "VGG16"
      ]
    },
    {
      "cell_type": "code",
      "metadata": {
        "id": "jijA70sD5A6u"
      },
      "source": [
        "# Block 1\n",
        "  x = layers.Conv2D(\n",
        "      64, (3, 3), activation='relu', padding='same', name='block1_conv1')(\n",
        "          img_input)\n",
        "  x = layers.Conv2D(\n",
        "      64, (3, 3), activation='relu', padding='same', name='block1_conv2')(x)\n",
        "  x = layers.MaxPooling2D((2, 2), strides=(2, 2), name='block1_pool')(x)\n",
        "\n",
        "  # Block 2\n",
        "  x = layers.Conv2D(\n",
        "      128, (3, 3), activation='relu', padding='same', name='block2_conv1')(x)\n",
        "  x = layers.Conv2D(\n",
        "      128, (3, 3), activation='relu', padding='same', name='block2_conv2')(x)\n",
        "  x = layers.MaxPooling2D((2, 2), strides=(2, 2), name='block2_pool')(x)\n",
        "\n",
        "  # Block 3\n",
        "  x = layers.Conv2D(\n",
        "      256, (3, 3), activation='relu', padding='same', name='block3_conv1')(x)\n",
        "  x = layers.Conv2D(\n",
        "      256, (3, 3), activation='relu', padding='same', name='block3_conv2')(x)\n",
        "  x = layers.Conv2D(\n",
        "      256, (3, 3), activation='relu', padding='same', name='block3_conv3')(x)\n",
        "  x = layers.MaxPooling2D((2, 2), strides=(2, 2), name='block3_pool')(x)\n",
        "\n",
        "  # Block 4\n",
        "  x = layers.Conv2D(\n",
        "      512, (3, 3), activation='relu', padding='same', name='block4_conv1')(x)\n",
        "  x = layers.Conv2D(\n",
        "      512, (3, 3), activation='relu', padding='same', name='block4_conv2')(x)\n",
        "  x = layers.Conv2D(\n",
        "      512, (3, 3), activation='relu', padding='same', name='block4_conv3')(x)\n",
        "  x = layers.MaxPooling2D((2, 2), strides=(2, 2), name='block4_pool')(x)\n",
        "\n",
        "  # Block 5\n",
        "  x = layers.Conv2D(\n",
        "      512, (3, 3), activation='relu', padding='same', name='block5_conv1')(x)\n",
        "  x = layers.Conv2D(\n",
        "      512, (3, 3), activation='relu', padding='same', name='block5_conv2')(x)\n",
        "  x = layers.Conv2D(\n",
        "      512, (3, 3), activation='relu', padding='same', name='block5_conv3')(x)\n",
        "  x = layers.MaxPooling2D((2, 2), strides=(2, 2), name='block5_pool')(x)"
      ],
      "execution_count": null,
      "outputs": []
    },
    {
      "cell_type": "code",
      "metadata": {
        "id": "wG46C_T4x4kV"
      },
      "source": [
        "\n",
        "def VGG_16(weights_path=None):\n",
        "    \"\"\"VGG16 на tensorflow\"\"\"\n",
        "    model = Sequential()\n",
        "    model.add(ZeroPadding2D((1, 1),input_shape=(224, 224, 3)))\n",
        "    model.add(Conv2D(64, (3, 3), activation='relu'))\n",
        "    model.add(ZeroPadding2D((1, 1)))\n",
        "    model.add(Conv2D(64, (3, 3), activation='relu'))\n",
        "    model.add(MaxPooling2D((2, 2), strides=(2, 2)))\n",
        "\n",
        "    model.add(ZeroPadding2D((1, 1)))\n",
        "    model.add(Conv2D(128, (3, 3), activation='relu'))\n",
        "    model.add(ZeroPadding2D((1, 1)))\n",
        "    model.add(Conv2D(128, (3, 3), activation='relu'))\n",
        "    model.add(MaxPooling2D((2, 2), strides=(2, 2)))\n",
        "\n",
        "    model.add(ZeroPadding2D((1, 1)))\n",
        "    model.add(Conv2D(256, (3, 3), activation='relu'))\n",
        "    model.add(ZeroPadding2D((1, 1)))\n",
        "    model.add(Conv2D(256, (3, 3), activation='relu'))\n",
        "    model.add(ZeroPadding2D((1, 1)))\n",
        "    model.add(Conv2D(256, (3, 3), activation='relu'))\n",
        "    model.add(MaxPooling2D((2, 2), strides=(2, 2)))\n",
        "\n",
        "    model.add(ZeroPadding2D((1, 1)))\n",
        "    model.add(Conv2D(512, (3, 3), activation='relu'))\n",
        "    model.add(ZeroPadding2D((1, 1)))\n",
        "    model.add(Conv2D(512, (3, 3), activation='relu'))\n",
        "    model.add(ZeroPadding2D((1, 1)))\n",
        "    model.add(Conv2D(512, (3, 3), activation='relu'))\n",
        "    model.add(MaxPooling2D((2, 2), strides=(2, 2)))\n",
        "\n",
        "    model.add(ZeroPadding2D((1, 1)))\n",
        "    model.add(Conv2D(512, (3, 3), activation='relu'))\n",
        "    model.add(ZeroPadding2D((1, 1)))\n",
        "    model.add(Conv2D(512, (3, 3), activation='relu'))\n",
        "    model.add(ZeroPadding2D((1, 1)))\n",
        "    model.add(Conv2D(512, (3, 3), activation='relu'))\n",
        "    model.add(MaxPooling2D((2, 2), strides=(2, 2)))\n",
        "\n",
        "    model.add(GlobalMaxPooling2D())\n",
        "\n",
        "    model.add(Dense(64, activation='relu'))\n",
        "    model.add(Dropout(0.5))\n",
        "    model.add(Dense(64, activation='relu'))\n",
        "    model.add(Dropout(0.5))\n",
        "    model.add(Dense(2, activation='softmax'))\n",
        "    #Если есть готовые веса, то можно загрузить их\n",
        "    if weights_path:\n",
        "        model.load_weights(weights_path)\n",
        "\n",
        "    return model\n",
        "  "
      ],
      "execution_count": null,
      "outputs": []
    },
    {
      "cell_type": "code",
      "metadata": {
        "colab": {
          "base_uri": "https://localhost:8080/",
          "height": 212
        },
        "id": "RU20bzd0zEwP",
        "outputId": "b24c30d5-11ed-422c-9611-92b4876de69b"
      },
      "source": [
        "# Загрузка модели\n",
        "model = VGG_16()\n",
        "model.compile(loss='binary_crossentropy', optimizer=SGD(), metrics=['accuracy'])\n",
        "model.summary()"
      ],
      "execution_count": null,
      "outputs": [
        {
          "output_type": "error",
          "ename": "TypeError",
          "evalue": "ignored",
          "traceback": [
            "\u001b[0;31m---------------------------------------------------------------------------\u001b[0m",
            "\u001b[0;31mTypeError\u001b[0m                                 Traceback (most recent call last)",
            "\u001b[0;32m<ipython-input-20-7c9e035d13e8>\u001b[0m in \u001b[0;36m<module>\u001b[0;34m()\u001b[0m\n\u001b[1;32m      1\u001b[0m \u001b[0;31m# Загрузка модели\u001b[0m\u001b[0;34m\u001b[0m\u001b[0;34m\u001b[0m\u001b[0;34m\u001b[0m\u001b[0m\n\u001b[0;32m----> 2\u001b[0;31m \u001b[0mmodel\u001b[0m \u001b[0;34m=\u001b[0m \u001b[0mVGG_16\u001b[0m\u001b[0;34m(\u001b[0m\u001b[0mweights\u001b[0m\u001b[0;34m=\u001b[0m\u001b[0;34m\"imagenet\"\u001b[0m\u001b[0;34m)\u001b[0m\u001b[0;34m\u001b[0m\u001b[0;34m\u001b[0m\u001b[0m\n\u001b[0m\u001b[1;32m      3\u001b[0m \u001b[0mmodel\u001b[0m\u001b[0;34m.\u001b[0m\u001b[0mcompile\u001b[0m\u001b[0;34m(\u001b[0m\u001b[0mloss\u001b[0m\u001b[0;34m=\u001b[0m\u001b[0;34m'binary_crossentropy'\u001b[0m\u001b[0;34m,\u001b[0m \u001b[0moptimizer\u001b[0m\u001b[0;34m=\u001b[0m\u001b[0mSGD\u001b[0m\u001b[0;34m(\u001b[0m\u001b[0;34m)\u001b[0m\u001b[0;34m,\u001b[0m \u001b[0mmetrics\u001b[0m\u001b[0;34m=\u001b[0m\u001b[0;34m[\u001b[0m\u001b[0;34m'accuracy'\u001b[0m\u001b[0;34m]\u001b[0m\u001b[0;34m)\u001b[0m\u001b[0;34m\u001b[0m\u001b[0;34m\u001b[0m\u001b[0m\n\u001b[1;32m      4\u001b[0m \u001b[0mmodel\u001b[0m\u001b[0;34m.\u001b[0m\u001b[0msummary\u001b[0m\u001b[0;34m(\u001b[0m\u001b[0;34m)\u001b[0m\u001b[0;34m\u001b[0m\u001b[0;34m\u001b[0m\u001b[0m\n",
            "\u001b[0;31mTypeError\u001b[0m: VGG_16() got an unexpected keyword argument 'weights'"
          ]
        }
      ]
    },
    {
      "cell_type": "code",
      "metadata": {
        "id": "k_aOMYHJzJEA"
      },
      "source": [
        "callbaks_list_vgg16 = [\n",
        "    ModelCheckpoint(            #Сохраняет лучшую модель\n",
        "        'VGG_16.h5', \n",
        "        monitor='val_accuracy', \n",
        "        save_best_only=True,\n",
        "        verbose=1\n",
        "    ),\n",
        "    ReduceLROnPlateau(           # Ускоряеет обучение\n",
        "        monitor='val_accuracy', \n",
        "        patience=3, \n",
        "        verbose=1, \n",
        "        factor=0.5, \n",
        "        min_lr=0.00001\n",
        "    ) \n",
        "]"
      ],
      "execution_count": null,
      "outputs": []
    },
    {
      "cell_type": "code",
      "metadata": {
        "colab": {
          "base_uri": "https://localhost:8080/",
          "height": 542
        },
        "id": "ZPfoh8i8zJGh",
        "outputId": "e61e3594-f086-4d92-a79b-b3f1f17e82d3"
      },
      "source": [
        "# Обучаем VGG16\n",
        "history_vgg16 = model.fit(aug.flow(X_train, y_train, batch_size=32),\n",
        "                    epochs=100,\n",
        "                    verbose=1,\n",
        "                    callbacks=callbaks_list_vgg16,\n",
        "                    validation_data=(X_test, y_test), \n",
        "                    steps_per_epoch=X_train.shape[0] // 32,\n",
        "                    validation_steps=len(X_test) // 32)"
      ],
      "execution_count": null,
      "outputs": [
        {
          "output_type": "stream",
          "text": [
            "Epoch 1/100\n",
            "125/125 [==============================] - 184s 1s/step - loss: 0.6906 - accuracy: 0.5540 - val_loss: 0.6842 - val_accuracy: 0.5790\n",
            "\n",
            "Epoch 00001: val_accuracy improved from -inf to 0.57900, saving model to VGG_16.h5\n",
            "Epoch 2/100\n",
            "125/125 [==============================] - 122s 976ms/step - loss: 0.6837 - accuracy: 0.5804 - val_loss: 0.6811 - val_accuracy: 0.5790\n",
            "\n",
            "Epoch 00002: val_accuracy did not improve from 0.57900\n",
            "Epoch 3/100\n",
            "104/125 [=======================>......] - ETA: 18s - loss: 0.6827 - accuracy: 0.5723"
          ],
          "name": "stdout"
        },
        {
          "output_type": "error",
          "ename": "KeyboardInterrupt",
          "evalue": "ignored",
          "traceback": [
            "\u001b[0;31m---------------------------------------------------------------------------\u001b[0m",
            "\u001b[0;31mKeyboardInterrupt\u001b[0m                         Traceback (most recent call last)",
            "\u001b[0;32m<ipython-input-19-64538aa16f31>\u001b[0m in \u001b[0;36m<module>\u001b[0;34m()\u001b[0m\n\u001b[1;32m      6\u001b[0m                     \u001b[0mvalidation_data\u001b[0m\u001b[0;34m=\u001b[0m\u001b[0;34m(\u001b[0m\u001b[0mX_test\u001b[0m\u001b[0;34m,\u001b[0m \u001b[0my_test\u001b[0m\u001b[0;34m)\u001b[0m\u001b[0;34m,\u001b[0m\u001b[0;34m\u001b[0m\u001b[0;34m\u001b[0m\u001b[0m\n\u001b[1;32m      7\u001b[0m                     \u001b[0msteps_per_epoch\u001b[0m\u001b[0;34m=\u001b[0m\u001b[0mX_train\u001b[0m\u001b[0;34m.\u001b[0m\u001b[0mshape\u001b[0m\u001b[0;34m[\u001b[0m\u001b[0;36m0\u001b[0m\u001b[0;34m]\u001b[0m \u001b[0;34m//\u001b[0m \u001b[0;36m32\u001b[0m\u001b[0;34m,\u001b[0m\u001b[0;34m\u001b[0m\u001b[0;34m\u001b[0m\u001b[0m\n\u001b[0;32m----> 8\u001b[0;31m                     validation_steps=len(X_test) // 32)\n\u001b[0m",
            "\u001b[0;32m/usr/local/lib/python3.7/dist-packages/tensorflow/python/keras/engine/training.py\u001b[0m in \u001b[0;36mfit\u001b[0;34m(self, x, y, batch_size, epochs, verbose, callbacks, validation_split, validation_data, shuffle, class_weight, sample_weight, initial_epoch, steps_per_epoch, validation_steps, validation_batch_size, validation_freq, max_queue_size, workers, use_multiprocessing)\u001b[0m\n\u001b[1;32m   1098\u001b[0m                 _r=1):\n\u001b[1;32m   1099\u001b[0m               \u001b[0mcallbacks\u001b[0m\u001b[0;34m.\u001b[0m\u001b[0mon_train_batch_begin\u001b[0m\u001b[0;34m(\u001b[0m\u001b[0mstep\u001b[0m\u001b[0;34m)\u001b[0m\u001b[0;34m\u001b[0m\u001b[0;34m\u001b[0m\u001b[0m\n\u001b[0;32m-> 1100\u001b[0;31m               \u001b[0mtmp_logs\u001b[0m \u001b[0;34m=\u001b[0m \u001b[0mself\u001b[0m\u001b[0;34m.\u001b[0m\u001b[0mtrain_function\u001b[0m\u001b[0;34m(\u001b[0m\u001b[0miterator\u001b[0m\u001b[0;34m)\u001b[0m\u001b[0;34m\u001b[0m\u001b[0;34m\u001b[0m\u001b[0m\n\u001b[0m\u001b[1;32m   1101\u001b[0m               \u001b[0;32mif\u001b[0m \u001b[0mdata_handler\u001b[0m\u001b[0;34m.\u001b[0m\u001b[0mshould_sync\u001b[0m\u001b[0;34m:\u001b[0m\u001b[0;34m\u001b[0m\u001b[0;34m\u001b[0m\u001b[0m\n\u001b[1;32m   1102\u001b[0m                 \u001b[0mcontext\u001b[0m\u001b[0;34m.\u001b[0m\u001b[0masync_wait\u001b[0m\u001b[0;34m(\u001b[0m\u001b[0;34m)\u001b[0m\u001b[0;34m\u001b[0m\u001b[0;34m\u001b[0m\u001b[0m\n",
            "\u001b[0;32m/usr/local/lib/python3.7/dist-packages/tensorflow/python/eager/def_function.py\u001b[0m in \u001b[0;36m__call__\u001b[0;34m(self, *args, **kwds)\u001b[0m\n\u001b[1;32m    826\u001b[0m     \u001b[0mtracing_count\u001b[0m \u001b[0;34m=\u001b[0m \u001b[0mself\u001b[0m\u001b[0;34m.\u001b[0m\u001b[0mexperimental_get_tracing_count\u001b[0m\u001b[0;34m(\u001b[0m\u001b[0;34m)\u001b[0m\u001b[0;34m\u001b[0m\u001b[0;34m\u001b[0m\u001b[0m\n\u001b[1;32m    827\u001b[0m     \u001b[0;32mwith\u001b[0m \u001b[0mtrace\u001b[0m\u001b[0;34m.\u001b[0m\u001b[0mTrace\u001b[0m\u001b[0;34m(\u001b[0m\u001b[0mself\u001b[0m\u001b[0;34m.\u001b[0m\u001b[0m_name\u001b[0m\u001b[0;34m)\u001b[0m \u001b[0;32mas\u001b[0m \u001b[0mtm\u001b[0m\u001b[0;34m:\u001b[0m\u001b[0;34m\u001b[0m\u001b[0;34m\u001b[0m\u001b[0m\n\u001b[0;32m--> 828\u001b[0;31m       \u001b[0mresult\u001b[0m \u001b[0;34m=\u001b[0m \u001b[0mself\u001b[0m\u001b[0;34m.\u001b[0m\u001b[0m_call\u001b[0m\u001b[0;34m(\u001b[0m\u001b[0;34m*\u001b[0m\u001b[0margs\u001b[0m\u001b[0;34m,\u001b[0m \u001b[0;34m**\u001b[0m\u001b[0mkwds\u001b[0m\u001b[0;34m)\u001b[0m\u001b[0;34m\u001b[0m\u001b[0;34m\u001b[0m\u001b[0m\n\u001b[0m\u001b[1;32m    829\u001b[0m       \u001b[0mcompiler\u001b[0m \u001b[0;34m=\u001b[0m \u001b[0;34m\"xla\"\u001b[0m \u001b[0;32mif\u001b[0m \u001b[0mself\u001b[0m\u001b[0;34m.\u001b[0m\u001b[0m_experimental_compile\u001b[0m \u001b[0;32melse\u001b[0m \u001b[0;34m\"nonXla\"\u001b[0m\u001b[0;34m\u001b[0m\u001b[0;34m\u001b[0m\u001b[0m\n\u001b[1;32m    830\u001b[0m       \u001b[0mnew_tracing_count\u001b[0m \u001b[0;34m=\u001b[0m \u001b[0mself\u001b[0m\u001b[0;34m.\u001b[0m\u001b[0mexperimental_get_tracing_count\u001b[0m\u001b[0;34m(\u001b[0m\u001b[0;34m)\u001b[0m\u001b[0;34m\u001b[0m\u001b[0;34m\u001b[0m\u001b[0m\n",
            "\u001b[0;32m/usr/local/lib/python3.7/dist-packages/tensorflow/python/eager/def_function.py\u001b[0m in \u001b[0;36m_call\u001b[0;34m(self, *args, **kwds)\u001b[0m\n\u001b[1;32m    853\u001b[0m       \u001b[0;31m# In this case we have created variables on the first call, so we run the\u001b[0m\u001b[0;34m\u001b[0m\u001b[0;34m\u001b[0m\u001b[0;34m\u001b[0m\u001b[0m\n\u001b[1;32m    854\u001b[0m       \u001b[0;31m# defunned version which is guaranteed to never create variables.\u001b[0m\u001b[0;34m\u001b[0m\u001b[0;34m\u001b[0m\u001b[0;34m\u001b[0m\u001b[0m\n\u001b[0;32m--> 855\u001b[0;31m       \u001b[0;32mreturn\u001b[0m \u001b[0mself\u001b[0m\u001b[0;34m.\u001b[0m\u001b[0m_stateless_fn\u001b[0m\u001b[0;34m(\u001b[0m\u001b[0;34m*\u001b[0m\u001b[0margs\u001b[0m\u001b[0;34m,\u001b[0m \u001b[0;34m**\u001b[0m\u001b[0mkwds\u001b[0m\u001b[0;34m)\u001b[0m  \u001b[0;31m# pylint: disable=not-callable\u001b[0m\u001b[0;34m\u001b[0m\u001b[0;34m\u001b[0m\u001b[0m\n\u001b[0m\u001b[1;32m    856\u001b[0m     \u001b[0;32melif\u001b[0m \u001b[0mself\u001b[0m\u001b[0;34m.\u001b[0m\u001b[0m_stateful_fn\u001b[0m \u001b[0;32mis\u001b[0m \u001b[0;32mnot\u001b[0m \u001b[0;32mNone\u001b[0m\u001b[0;34m:\u001b[0m\u001b[0;34m\u001b[0m\u001b[0;34m\u001b[0m\u001b[0m\n\u001b[1;32m    857\u001b[0m       \u001b[0;31m# Release the lock early so that multiple threads can perform the call\u001b[0m\u001b[0;34m\u001b[0m\u001b[0;34m\u001b[0m\u001b[0;34m\u001b[0m\u001b[0m\n",
            "\u001b[0;32m/usr/local/lib/python3.7/dist-packages/tensorflow/python/eager/function.py\u001b[0m in \u001b[0;36m__call__\u001b[0;34m(self, *args, **kwargs)\u001b[0m\n\u001b[1;32m   2941\u001b[0m        filtered_flat_args) = self._maybe_define_function(args, kwargs)\n\u001b[1;32m   2942\u001b[0m     return graph_function._call_flat(\n\u001b[0;32m-> 2943\u001b[0;31m         filtered_flat_args, captured_inputs=graph_function.captured_inputs)  # pylint: disable=protected-access\n\u001b[0m\u001b[1;32m   2944\u001b[0m \u001b[0;34m\u001b[0m\u001b[0m\n\u001b[1;32m   2945\u001b[0m   \u001b[0;34m@\u001b[0m\u001b[0mproperty\u001b[0m\u001b[0;34m\u001b[0m\u001b[0;34m\u001b[0m\u001b[0m\n",
            "\u001b[0;32m/usr/local/lib/python3.7/dist-packages/tensorflow/python/eager/function.py\u001b[0m in \u001b[0;36m_call_flat\u001b[0;34m(self, args, captured_inputs, cancellation_manager)\u001b[0m\n\u001b[1;32m   1917\u001b[0m       \u001b[0;31m# No tape is watching; skip to running the function.\u001b[0m\u001b[0;34m\u001b[0m\u001b[0;34m\u001b[0m\u001b[0;34m\u001b[0m\u001b[0m\n\u001b[1;32m   1918\u001b[0m       return self._build_call_outputs(self._inference_function.call(\n\u001b[0;32m-> 1919\u001b[0;31m           ctx, args, cancellation_manager=cancellation_manager))\n\u001b[0m\u001b[1;32m   1920\u001b[0m     forward_backward = self._select_forward_and_backward_functions(\n\u001b[1;32m   1921\u001b[0m         \u001b[0margs\u001b[0m\u001b[0;34m,\u001b[0m\u001b[0;34m\u001b[0m\u001b[0;34m\u001b[0m\u001b[0m\n",
            "\u001b[0;32m/usr/local/lib/python3.7/dist-packages/tensorflow/python/eager/function.py\u001b[0m in \u001b[0;36mcall\u001b[0;34m(self, ctx, args, cancellation_manager)\u001b[0m\n\u001b[1;32m    558\u001b[0m               \u001b[0minputs\u001b[0m\u001b[0;34m=\u001b[0m\u001b[0margs\u001b[0m\u001b[0;34m,\u001b[0m\u001b[0;34m\u001b[0m\u001b[0;34m\u001b[0m\u001b[0m\n\u001b[1;32m    559\u001b[0m               \u001b[0mattrs\u001b[0m\u001b[0;34m=\u001b[0m\u001b[0mattrs\u001b[0m\u001b[0;34m,\u001b[0m\u001b[0;34m\u001b[0m\u001b[0;34m\u001b[0m\u001b[0m\n\u001b[0;32m--> 560\u001b[0;31m               ctx=ctx)\n\u001b[0m\u001b[1;32m    561\u001b[0m         \u001b[0;32melse\u001b[0m\u001b[0;34m:\u001b[0m\u001b[0;34m\u001b[0m\u001b[0;34m\u001b[0m\u001b[0m\n\u001b[1;32m    562\u001b[0m           outputs = execute.execute_with_cancellation(\n",
            "\u001b[0;32m/usr/local/lib/python3.7/dist-packages/tensorflow/python/eager/execute.py\u001b[0m in \u001b[0;36mquick_execute\u001b[0;34m(op_name, num_outputs, inputs, attrs, ctx, name)\u001b[0m\n\u001b[1;32m     58\u001b[0m     \u001b[0mctx\u001b[0m\u001b[0;34m.\u001b[0m\u001b[0mensure_initialized\u001b[0m\u001b[0;34m(\u001b[0m\u001b[0;34m)\u001b[0m\u001b[0;34m\u001b[0m\u001b[0;34m\u001b[0m\u001b[0m\n\u001b[1;32m     59\u001b[0m     tensors = pywrap_tfe.TFE_Py_Execute(ctx._handle, device_name, op_name,\n\u001b[0;32m---> 60\u001b[0;31m                                         inputs, attrs, num_outputs)\n\u001b[0m\u001b[1;32m     61\u001b[0m   \u001b[0;32mexcept\u001b[0m \u001b[0mcore\u001b[0m\u001b[0;34m.\u001b[0m\u001b[0m_NotOkStatusException\u001b[0m \u001b[0;32mas\u001b[0m \u001b[0me\u001b[0m\u001b[0;34m:\u001b[0m\u001b[0;34m\u001b[0m\u001b[0;34m\u001b[0m\u001b[0m\n\u001b[1;32m     62\u001b[0m     \u001b[0;32mif\u001b[0m \u001b[0mname\u001b[0m \u001b[0;32mis\u001b[0m \u001b[0;32mnot\u001b[0m \u001b[0;32mNone\u001b[0m\u001b[0;34m:\u001b[0m\u001b[0;34m\u001b[0m\u001b[0;34m\u001b[0m\u001b[0m\n",
            "\u001b[0;31mKeyboardInterrupt\u001b[0m: "
          ]
        }
      ]
    },
    {
      "cell_type": "code",
      "metadata": {
        "id": "0-oxDVbnzJI2"
      },
      "source": [
        "plt.figure(figsize=(10,10))\n",
        "plt.plot(history_vgg16.history['accuracy'], label='Доля верных ответов на обучающем наборе')\n",
        "plt.plot(history_vgg16.history['val_accuracy'], label='Доля верных ответов на проверочном наборе')\n",
        "plt.plot(history_vgg16.history['loss'], label='Loss верных ответов на обучающем наборе')  \n",
        "plt.plot(history_vgg16.history['val_loss'], label='Loss верных ответов на проверочном наборе')\n",
        "plt.xlabel('Эпоха обучения')\n",
        "plt.ylabel('Доля верных ответов')\n",
        "plt.legend()\n",
        "plt.savefig(\"Plot\")\n",
        "plt.show()"
      ],
      "execution_count": null,
      "outputs": []
    },
    {
      "cell_type": "markdown",
      "metadata": {
        "id": "VvnFK16Gz41t"
      },
      "source": [
        "VGG19\n"
      ]
    },
    {
      "cell_type": "code",
      "metadata": {
        "id": "IY_eb_884z9g"
      },
      "source": [
        "# Block 1\n",
        "  x = layers.Conv2D(\n",
        "      64, (3, 3), activation='relu', padding='same', name='block1_conv1')(\n",
        "          img_input)\n",
        "  x = layers.Conv2D(\n",
        "      64, (3, 3), activation='relu', padding='same', name='block1_conv2')(x)\n",
        "  x = layers.MaxPooling2D((2, 2), strides=(2, 2), name='block1_pool')(x)\n",
        "\n",
        "  # Block 2\n",
        "  x = layers.Conv2D(\n",
        "      128, (3, 3), activation='relu', padding='same', name='block2_conv1')(x)\n",
        "  x = layers.Conv2D(\n",
        "      128, (3, 3), activation='relu', padding='same', name='block2_conv2')(x)\n",
        "  x = layers.MaxPooling2D((2, 2), strides=(2, 2), name='block2_pool')(x)\n",
        "\n",
        "  # Block 3\n",
        "  x = layers.Conv2D(\n",
        "      256, (3, 3), activation='relu', padding='same', name='block3_conv1')(x)\n",
        "  x = layers.Conv2D(\n",
        "      256, (3, 3), activation='relu', padding='same', name='block3_conv2')(x)\n",
        "  x = layers.Conv2D(\n",
        "      256, (3, 3), activation='relu', padding='same', name='block3_conv3')(x)\n",
        "  x = layers.Conv2D(\n",
        "      256, (3, 3), activation='relu', padding='same', name='block3_conv4')(x)\n",
        "  x = layers.MaxPooling2D((2, 2), strides=(2, 2), name='block3_pool')(x)\n",
        "\n",
        "  # Block 4\n",
        "  x = layers.Conv2D(\n",
        "      512, (3, 3), activation='relu', padding='same', name='block4_conv1')(x)\n",
        "  x = layers.Conv2D(\n",
        "      512, (3, 3), activation='relu', padding='same', name='block4_conv2')(x)\n",
        "  x = layers.Conv2D(\n",
        "      512, (3, 3), activation='relu', padding='same', name='block4_conv3')(x)\n",
        "  x = layers.Conv2D(\n",
        "      512, (3, 3), activation='relu', padding='same', name='block4_conv4')(x)\n",
        "  x = layers.MaxPooling2D((2, 2), strides=(2, 2), name='block4_pool')(x)\n",
        "\n",
        "  # Block 5\n",
        "  x = layers.Conv2D(\n",
        "      512, (3, 3), activation='relu', padding='same', name='block5_conv1')(x)\n",
        "  x = layers.Conv2D(\n",
        "      512, (3, 3), activation='relu', padding='same', name='block5_conv2')(x)\n",
        "  x = layers.Conv2D(\n",
        "      512, (3, 3), activation='relu', padding='same', name='block5_conv3')(x)\n",
        "  x = layers.Conv2D(\n",
        "      512, (3, 3), activation='relu', padding='same', name='block5_conv4')(x)\n",
        "  x = layers.MaxPooling2D((2, 2), strides=(2, 2), name='block5_pool')(x)"
      ],
      "execution_count": null,
      "outputs": []
    },
    {
      "cell_type": "code",
      "metadata": {
        "id": "JG1cn2Fz4PVB"
      },
      "source": [
        "vgg19 = VGG19(weights=\"imagenet\", input_tensor=Input(shape=(224, 224, 3)),  include_top=False)\n",
        "vgg19.summary()\n",
        "print(vgg19.output)\n",
        "head_vgg19 = vgg19.output\n",
        "head_vgg19 = GlobalMaxPooling2D()(head_vgg19)\n",
        "head_vgg19 = Dense(64, activation=\"relu\")(head_vgg19)\n",
        "head_vgg19 = Dropout(0.5)(head_vgg19)\n",
        "head_vgg19 = Dense(64, activation=\"relu\")(head_vgg19)\n",
        "head_vgg19 = Dropout(0.5)(head_vgg19)\n",
        "head_vgg19 = Dense(2, activation=\"softmax\")(head_vgg19)\n",
        "\n",
        "model_vgg19 = Model(inputs=vgg19.input, outputs=head_vgg19)\n",
        "for layer in vgg19.layers:\n",
        "\tlayer.trainable = False\n",
        "\n",
        "\n",
        "print(\"[INFO] compiling model...\")\n",
        "opt = Adam(lr=INIT_LR, decay=INIT_LR / EPOCHS)\n",
        "\n",
        "model_vgg19.compile(loss=\"binary_crossentropy\", optimizer=opt, metrics=[\"accuracy\"])\n",
        "# train the head of the network\n",
        "\n",
        "print(\"[INFO] training head...\")\n",
        "H_vgg19 = model_vgg19.fit(aug.flow(X_train, y_train, batch_size=32),\n",
        "                    epochs=100,\n",
        "                    verbose=1,\n",
        "                    callbacks=callbaks_list,# переименовать или он будет перезаписан\n",
        "                    validation_data=(X_test, y_test), \n",
        "                    steps_per_epoch=X_train.shape[0] // 32,\n",
        "                    validation_steps=len(X_test) // 32)"
      ],
      "execution_count": null,
      "outputs": []
    },
    {
      "cell_type": "markdown",
      "metadata": {
        "id": "8KsX21BT09X4"
      },
      "source": [
        "mobilnet2"
      ]
    },
    {
      "cell_type": "code",
      "metadata": {
        "id": "ZZ9qB3DnfjlO"
      },
      "source": [
        "\n",
        "INIT_LR = 1e-4\n",
        "EPOCHS = 20\n",
        "BS = 32\n",
        "baseModel = MobileNetV2(weights=\"imagenet\", include_top=False, input_tensor=Input(shape=(224, 224, 3)))\n",
        "\n",
        "headModel = baseModel.output\n",
        "headModel = AveragePooling2D(pool_size=(7, 7))(headModel)\n",
        "headModel = Flatten(name=\"flatten\")(headModel)\n",
        "headModel = Dense(128, activation=\"relu\")(headModel)\n",
        "headModel = Dropout(0.5)(headModel)\n",
        "headModel = Dense(2, activation=\"softmax\")(headModel)\n",
        "\n",
        "model1 = Model(inputs=baseModel.input, outputs=headModel)\n",
        "\n",
        "for layer in baseModel.layers:\n",
        "\tlayer.trainable = False\n",
        "\n",
        "print(\"[INFO] compiling model...\")\n",
        "opt = Adam(lr=INIT_LR, decay=INIT_LR / EPOCHS)\n",
        "\n",
        "model1.compile(loss=\"binary_crossentropy\", optimizer=opt, metrics=[\"accuracy\"])\n",
        "baseModel.summary()\n",
        "# train the head of the network\n",
        "print(\"[INFO] training head...\")\n",
        "H = model1.fit(\n",
        "\taug.flow(X_train, y_train, batch_size=BS),\n",
        "\tsteps_per_epoch=len(X_train) // BS,\n",
        "\tvalidation_data=(X_test, y_test),\n",
        "\tvalidation_steps=len(X_test) // BS,\n",
        "\tepochs=EPOCHS,\n",
        "  callbacks=callbaks_list)"
      ],
      "execution_count": null,
      "outputs": []
    },
    {
      "cell_type": "code",
      "metadata": {
        "id": "hHxb13SL-Nf5",
        "colab": {
          "base_uri": "https://localhost:8080/",
          "height": 606
        },
        "outputId": "424183d1-65ac-4a4f-e234-dfcfe77ff199"
      },
      "source": [
        "plt.figure(figsize=(10,10))\n",
        "plt.plot(H.history['accuracy'], label='Доля верных ответов на обучающем наборе')\n",
        "plt.plot(H.history['val_accuracy'], label='Доля верных ответов на проверочном наборе')\n",
        "plt.plot(H.history['loss'], label='Loss верных ответов на обучающем наборе')  \n",
        "plt.plot(H.history['val_loss'], label='Loss верных ответов на проверочном наборе')\n",
        "plt.xlabel('Эпоха обучения')\n",
        "plt.ylabel('Доля верных ответов')\n",
        "plt.legend()\n",
        "plt.savefig(\"Plot\")\n",
        "plt.show()  "
      ],
      "execution_count": null,
      "outputs": [
        {
          "output_type": "display_data",
          "data": {
            "image/png": "[encoded data removed]",
            "text/plain": [
              "<Figure size 720x720 with 1 Axes>"
            ]
          },
          "metadata": {
            "tags": [],
            "needs_background": "light"
          }
        }
      ]
    }
  ]
}