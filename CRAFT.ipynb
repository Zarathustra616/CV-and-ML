{
  "nbformat": 4,
  "nbformat_minor": 0,
  "metadata": {
    "colab": {
      "name": "CRAFT.ipynb",
      "provenance": [],
      "collapsed_sections": []
    },
    "kernelspec": {
      "name": "python3",
      "display_name": "Python 3"
    },
    "language_info": {
      "name": "python"
    }
  },
  "cells": [
    {
      "cell_type": "code",
      "metadata": {
        "colab": {
          "base_uri": "https://localhost:8080/"
        },
        "id": "of0pFI9MLC02",
        "outputId": "81eea484-7f09-499d-8c53-b978a230fcc0"
      },
      "source": [
        "!git clone https://github.com/clovaai/CRAFT-pytorch.git"
      ],
      "execution_count": null,
      "outputs": [
        {
          "output_type": "stream",
          "name": "stdout",
          "text": [
            "Cloning into 'CRAFT-pytorch'...\n",
            "remote: Enumerating objects: 59, done.\u001b[K\n",
            "remote: Counting objects: 100% (3/3), done.\u001b[K\n",
            "remote: Compressing objects: 100% (3/3), done.\u001b[K\n",
            "remote: Total 59 (delta 0), reused 0 (delta 0), pack-reused 56\u001b[K\n",
            "Unpacking objects: 100% (59/59), done.\n"
          ]
        }
      ]
    },
    {
      "cell_type": "code",
      "metadata": {
        "colab": {
          "base_uri": "https://localhost:8080/"
        },
        "id": "qr-ebSM1Mm9L",
        "outputId": "a15de5c8-8b1c-4693-8437-5078c18cfa07"
      },
      "source": [
        "pip install -r /content/CRAFT-pytorch/requirements.txt"
      ],
      "execution_count": null,
      "outputs": [
        {
          "output_type": "stream",
          "name": "stdout",
          "text": [
            "Collecting torch==0.4.1.post2\n",
            "  Downloading torch-0.4.1.post2-cp37-cp37m-manylinux1_x86_64.whl (519.5 MB)\n",
            "\u001b[K     |████████████████████████████████| 519.5 MB 22 kB/s \n",
            "\u001b[?25hCollecting torchvision==0.2.1\n",
            "  Downloading torchvision-0.2.1-py2.py3-none-any.whl (54 kB)\n",
            "\u001b[K     |████████████████████████████████| 54 kB 2.8 MB/s \n",
            "\u001b[?25hCollecting opencv-python==3.4.2.17\n",
            "  Downloading opencv_python-3.4.2.17-cp37-cp37m-manylinux1_x86_64.whl (25.0 MB)\n",
            "\u001b[K     |████████████████████████████████| 25.0 MB 108 kB/s \n",
            "\u001b[?25hCollecting scikit-image==0.14.2\n",
            "  Downloading scikit_image-0.14.2-cp37-cp37m-manylinux1_x86_64.whl (25.3 MB)\n",
            "\u001b[K     |████████████████████████████████| 25.3 MB 83 kB/s \n",
            "\u001b[?25hCollecting scipy==1.1.0\n",
            "  Downloading scipy-1.1.0-cp37-cp37m-manylinux1_x86_64.whl (31.2 MB)\n",
            "\u001b[K     |████████████████████████████████| 31.2 MB 60 kB/s \n",
            "\u001b[?25hRequirement already satisfied: six in /usr/local/lib/python3.7/dist-packages (from torchvision==0.2.1->-r /content/CRAFT-pytorch/requirements.txt (line 2)) (1.15.0)\n",
            "Requirement already satisfied: pillow>=4.1.1 in /usr/local/lib/python3.7/dist-packages (from torchvision==0.2.1->-r /content/CRAFT-pytorch/requirements.txt (line 2)) (7.1.2)\n",
            "Requirement already satisfied: numpy in /usr/local/lib/python3.7/dist-packages (from torchvision==0.2.1->-r /content/CRAFT-pytorch/requirements.txt (line 2)) (1.19.5)\n",
            "Requirement already satisfied: matplotlib>=2.0.0 in /usr/local/lib/python3.7/dist-packages (from scikit-image==0.14.2->-r /content/CRAFT-pytorch/requirements.txt (line 4)) (3.2.2)\n",
            "Requirement already satisfied: PyWavelets>=0.4.0 in /usr/local/lib/python3.7/dist-packages (from scikit-image==0.14.2->-r /content/CRAFT-pytorch/requirements.txt (line 4)) (1.1.1)\n",
            "Requirement already satisfied: cloudpickle>=0.2.1 in /usr/local/lib/python3.7/dist-packages (from scikit-image==0.14.2->-r /content/CRAFT-pytorch/requirements.txt (line 4)) (1.3.0)\n",
            "Requirement already satisfied: networkx>=1.8 in /usr/local/lib/python3.7/dist-packages (from scikit-image==0.14.2->-r /content/CRAFT-pytorch/requirements.txt (line 4)) (2.6.3)\n",
            "Requirement already satisfied: dask[array]>=1.0.0 in /usr/local/lib/python3.7/dist-packages (from scikit-image==0.14.2->-r /content/CRAFT-pytorch/requirements.txt (line 4)) (2.12.0)\n",
            "Requirement already satisfied: toolz>=0.7.3 in /usr/local/lib/python3.7/dist-packages (from dask[array]>=1.0.0->scikit-image==0.14.2->-r /content/CRAFT-pytorch/requirements.txt (line 4)) (0.11.1)\n",
            "Requirement already satisfied: python-dateutil>=2.1 in /usr/local/lib/python3.7/dist-packages (from matplotlib>=2.0.0->scikit-image==0.14.2->-r /content/CRAFT-pytorch/requirements.txt (line 4)) (2.8.2)\n",
            "Requirement already satisfied: kiwisolver>=1.0.1 in /usr/local/lib/python3.7/dist-packages (from matplotlib>=2.0.0->scikit-image==0.14.2->-r /content/CRAFT-pytorch/requirements.txt (line 4)) (1.3.2)\n",
            "Requirement already satisfied: pyparsing!=2.0.4,!=2.1.2,!=2.1.6,>=2.0.1 in /usr/local/lib/python3.7/dist-packages (from matplotlib>=2.0.0->scikit-image==0.14.2->-r /content/CRAFT-pytorch/requirements.txt (line 4)) (2.4.7)\n",
            "Requirement already satisfied: cycler>=0.10 in /usr/local/lib/python3.7/dist-packages (from matplotlib>=2.0.0->scikit-image==0.14.2->-r /content/CRAFT-pytorch/requirements.txt (line 4)) (0.10.0)\n",
            "Installing collected packages: torch, scipy, torchvision, scikit-image, opencv-python\n",
            "  Attempting uninstall: torch\n",
            "    Found existing installation: torch 1.9.0+cu111\n",
            "    Uninstalling torch-1.9.0+cu111:\n",
            "      Successfully uninstalled torch-1.9.0+cu111\n",
            "  Attempting uninstall: scipy\n",
            "    Found existing installation: scipy 1.4.1\n",
            "    Uninstalling scipy-1.4.1:\n",
            "      Successfully uninstalled scipy-1.4.1\n",
            "  Attempting uninstall: torchvision\n",
            "    Found existing installation: torchvision 0.10.0+cu111\n",
            "    Uninstalling torchvision-0.10.0+cu111:\n",
            "      Successfully uninstalled torchvision-0.10.0+cu111\n",
            "  Attempting uninstall: scikit-image\n",
            "    Found existing installation: scikit-image 0.16.2\n",
            "    Uninstalling scikit-image-0.16.2:\n",
            "      Successfully uninstalled scikit-image-0.16.2\n",
            "  Attempting uninstall: opencv-python\n",
            "    Found existing installation: opencv-python 4.1.2.30\n",
            "    Uninstalling opencv-python-4.1.2.30:\n",
            "      Successfully uninstalled opencv-python-4.1.2.30\n",
            "\u001b[31mERROR: pip's dependency resolver does not currently take into account all the packages that are installed. This behaviour is the source of the following dependency conflicts.\n",
            "torchtext 0.10.0 requires torch==1.9.0, but you have torch 0.4.1.post2 which is incompatible.\n",
            "pymc3 3.11.4 requires scipy>=1.2.0, but you have scipy 1.1.0 which is incompatible.\n",
            "plotnine 0.6.0 requires scipy>=1.2.0, but you have scipy 1.1.0 which is incompatible.\n",
            "jax 0.2.21 requires scipy>=1.2.1, but you have scipy 1.1.0 which is incompatible.\n",
            "fastai 1.0.61 requires torch>=1.0.0, but you have torch 0.4.1.post2 which is incompatible.\n",
            "albumentations 0.1.12 requires imgaug<0.2.7,>=0.2.5, but you have imgaug 0.2.9 which is incompatible.\u001b[0m\n",
            "Successfully installed opencv-python-3.4.2.17 scikit-image-0.14.2 scipy-1.1.0 torch-0.4.1.post2 torchvision-0.2.1\n"
          ]
        }
      ]
    },
    {
      "cell_type": "code",
      "metadata": {
        "id": "9VI7MkvTbvtA"
      },
      "source": [
        "import torch\n",
        "my_model = torch.load('/content/CRAFT-pytorch/weights/craft_mlt_25k.pth',map_location ='cpu')"
      ],
      "execution_count": null,
      "outputs": []
    },
    {
      "cell_type": "code",
      "metadata": {
        "colab": {
          "base_uri": "https://localhost:8080/"
        },
        "id": "2fANg_huMueH",
        "outputId": "053b642e-ee3d-46e8-87b9-7baba0934366"
      },
      "source": [
        "!python /content/CRAFT-pytorch/test.py --trained_model=/content/CRAFT-pytorch/weights/craft_mlt_25k.pth --test_folder=/content/CRAFT-pytorch/test_img --cuda=False"
      ],
      "execution_count": null,
      "outputs": [
        {
          "output_type": "stream",
          "name": "stdout",
          "text": [
            "Traceback (most recent call last):\n",
            "  File \"/content/CRAFT-pytorch/test.py\", line 101, in <module>\n",
            "    print('Loading weights from checkpoint (' + args.trained_model + ')')\n",
            "NameError: name 'args' is not defined\n"
          ]
        }
      ]
    },
    {
      "cell_type": "code",
      "metadata": {
        "colab": {
          "base_uri": "https://localhost:8080/"
        },
        "id": "VmmUEQaMjkVX",
        "outputId": "e4532a8c-653f-44d0-f5e4-dab7a818f217"
      },
      "source": [
        "!python /content/CRAFT-pytorch/pipeline.py --trained_model=/content/CRAFT-pytorch/weights/craft_mlt_25k.pth --test_folder=/content/CRAFT-pytorch/test_img --cuda=False"
      ],
      "execution_count": null,
      "outputs": [
        {
          "output_type": "stream",
          "name": "stdout",
          "text": [
            "Loading weights from checkpoint (/content/CRAFT-pytorch/weights/craft_mlt_25k.pth)\n",
            "Test image 1/1: /content/CRAFT-pytorch/test_img/word-image.png\rtcmalloc: large alloc 2548039680 bytes == 0x55a9b8776000 @  0x7f9f2c6b7b6b 0x7f9f2c6d7379 0x7f9f0c64a796 0x7f9f0c64ab90 0x7f9f0c650f21 0x7f9f0c65545f 0x7f9f0c6c7328 0x7f9f0c6c8a01 0x7f9f0cc30a60 0x7f9f0c5422cf 0x7f9f1488d92a 0x7f9f0c61e21e 0x7f9f1488ca50 0x7f9f0c3d4fd0 0x7f9f0c61b58d 0x7f9f14899529 0x7f9f0c3d7127 0x7f9f0c61b663 0x7f9f14898f3a 0x7f9f0c3d067e 0x7f9f0c61b71c 0x7f9f1478e74c 0x7f9f0c3cfe2c 0x7f9f0c61b325 0x7f9f1478e8be 0x7f9f1498f26b 0x55a99223b4b0 0x55a99223b240 0x55a9922af0f3 0x55a99223d039 0x55a99223d698\n",
            "tcmalloc: large alloc 1274019840 bytes == 0x55a9b8776000 @  0x7f9f2c6b7b6b 0x7f9f2c6d7379 0x7f9f0c64a796 0x7f9f0c64ab90 0x7f9f0c650f21 0x7f9f0c65545f 0x7f9f0c6c7328 0x7f9f0c6c8a01 0x7f9f0cc30a60 0x7f9f0c5422cf 0x7f9f1488d92a 0x7f9f0c61e21e 0x7f9f1488ca50 0x7f9f0c3d4fd0 0x7f9f0c61b58d 0x7f9f14899529 0x7f9f0c3d7127 0x7f9f0c61b663 0x7f9f14898f3a 0x7f9f0c3d067e 0x7f9f0c61b71c 0x7f9f1478e74c 0x7f9f0c3cfe2c 0x7f9f0c61b325 0x7f9f1478e8be 0x7f9f1498f26b 0x55a99223b4b0 0x55a99223b240 0x55a9922af0f3 0x55a99223d039 0x55a99223d698\n",
            "elapsed time : 24.88020610809326s\n"
          ]
        }
      ]
    },
    {
      "cell_type": "code",
      "metadata": {
        "colab": {
          "base_uri": "https://localhost:8080/"
        },
        "id": "RFo8Ax7omfY-",
        "outputId": "30471198-7d09-423a-85e6-ecee85f11b09"
      },
      "source": [
        "!python /content/crop_image.py"
      ],
      "execution_count": null,
      "outputs": [
        {
          "output_type": "stream",
          "name": "stdout",
          "text": [
            "Image saved to /content/Pipeline/Crop Words/word-image.pn_450.7442_129.0079_783.12994_210.14142_761.8758_297.21475_429.49005_216.08124.jpg\n",
            "Image saved to /content/Pipeline/Crop Words/word-image.pn_128.0356_260.66046_269.37152_187.5557_299.33896_245.4928_158.00305_318.59756.jpg\n",
            "Image saved to /content/Pipeline/Crop Words/word-image.pn_186.56255_329.37506_307.18756_269.06253_327.18753_309.06256_206.56252_369.37506.jpg\n",
            "Image saved to /content/Pipeline/Crop Words/word-image.pn_612.87775_289.17642_844.0194_315.4425_838.1072_367.46954_606.9655_341.20346.jpg\n",
            "Image saved to /content/Pipeline/Crop Words/word-image.pn_375.12445_423.23813_435.39734_399.90668_442.54102_418.36115_382.26813_441.6926.jpg\n",
            "Image saved to /content/Pipeline/Crop Words/word-image.pn_448.88474_407.7101_481.10452_434.97308_470.3179_447.72095_438.09808_420.45798.jpg\n",
            "Image saved to /content/Pipeline/Crop Words/word-image.pn_375.21466_452.23184_482.02783_456.3401_481.08844_480.7631_374.2753_476.65488.jpg\n",
            "Image saved to /content/Pipeline/Crop Words/word-image.pn_398.4375_475.0_464.0625_475.0_464.0625_503.125_398.4375_503.125.jpg\n"
          ]
        }
      ]
    },
    {
      "cell_type": "code",
      "metadata": {
        "colab": {
          "base_uri": "https://localhost:8080/"
        },
        "id": "2fbHSshctgv1",
        "outputId": "7d24c3fc-887d-4be8-f2b1-0870cc599632"
      },
      "source": [
        "!git clone https://github.com/clovaai/deep-text-recognition-benchmark"
      ],
      "execution_count": null,
      "outputs": [
        {
          "output_type": "stream",
          "name": "stdout",
          "text": [
            "fatal: destination path 'deep-text-recognition-benchmark' already exists and is not an empty directory.\n"
          ]
        }
      ]
    },
    {
      "cell_type": "code",
      "metadata": {
        "colab": {
          "base_uri": "https://localhost:8080/"
        },
        "id": "4O9SZDbyovqK",
        "outputId": "592badad-be01-4490-b6de-4276c4520c98"
      },
      "source": [
        "!python /content/deep-text-recognition-benchmark/demo.py \\\n",
        "--Transformation TPS --FeatureExtraction ResNet --SequenceModeling BiLSTM --Prediction CTC \\\n",
        "--image_folder '/content/Pipeline/Crop Words'  \\\n",
        "--saved_model '/content/TPS-ResNet-BiLSTM-CTC.pth'"
      ],
      "execution_count": null,
      "outputs": [
        {
          "output_type": "stream",
          "name": "stdout",
          "text": [
            "model input parameters 32 100 20 1 512 256 37 25 TPS ResNet BiLSTM CTC\n",
            "loading pretrained model from /content/TPS-ResNet-BiLSTM-CTC.pth\n",
            "--------------------------------------------------------------------------------\n",
            "image_path               \t predicted_labels         \t confidence score\n",
            "--------------------------------------------------------------------------------\n",
            "word-image.pn_128.0356_260.66046_269.37152_187.5557_299.33896_245.4928_158.00305_318.59756.jpg\t bephoins                 \t 0.0054\n",
            "word-image.pn_186.56255_329.37506_307.18756_269.06253_327.18753_309.06256_206.56252_369.37506.jpg\t chuseocam                \t 0.0781\n",
            "word-image.pn_375.12445_423.23813_435.39734_399.90668_442.54102_418.36115_382.26813_441.6926.jpg\t koproasiee               \t 0.0010\n",
            "word-image.pn_375.21466_452.23184_482.02783_456.3401_481.08844_480.7631_374.2753_476.65488.jpg\t whwkhh                   \t 0.1006\n",
            "word-image.pn_398.4375_475.0_464.0625_475.0_464.0625_503.125_398.4375_503.125.jpg\t napk                     \t 0.9926\n",
            "word-image.pn_448.88474_407.7101_481.10452_434.97308_470.3179_447.72095_438.09808_420.45798.jpg\t lucnd                    \t 0.0128\n",
            "word-image.pn_450.7442_129.0079_783.12994_210.14142_761.8758_297.21475_429.49005_216.08124.jpg\t bepaund                  \t 0.0036\n",
            "word-image.pn_612.87775_289.17642_844.0194_315.4425_838.1072_367.46954_606.9655_341.20346.jpg\t yhusepcam                \t 0.2884\n"
          ]
        }
      ]
    },
    {
      "cell_type": "code",
      "metadata": {
        "id": "nXYh4gZhzaYS"
      },
      "source": [
        ""
      ],
      "execution_count": null,
      "outputs": []
    }
  ]
}