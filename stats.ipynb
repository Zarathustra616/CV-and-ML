{
 "cells": [
  {
   "cell_type": "markdown",
   "metadata": {},
   "source": [
    "В вашем распоряжении данные о поведении пользователей сотовой компании. Руководство хочет понять, какой тариф приносит больший доход компании.\n",
    "\n",
    "Описание данных:\n",
    "\n",
    "   * history.csv - посуточные данные о действиях пользователь\n",
    "        * date - дата\n",
    "        * user_id - id пользователя\n",
    "        * tariff - Название тарифа\n",
    "        * gb - количество израсходованных Гб за сутки\n",
    "        * min - количество израсходованных минут за сутки\n",
    "        * sms - количество израсходованных смс за сутки\n",
    "        * count_calls - количество звонков за сутки\n",
    "   * tariffs.csv - Информация о тарифных планах\n",
    "        * tariff - название тарифа\n",
    "        * min - количество минут в пакете\n",
    "        * gb - количество Гб в пакете\n",
    "        * sms - количество смс в пакете\n",
    "        * price - стоимость пакета\n",
    "        * price_1min - стоимость 1 минуты при привышении количества минут пакета\n",
    "        * price_1gb\t- стоимость 1 Гб при привышении количества Гб пакета \n",
    "        * price_1sms - стоимость 1 смс при привышении количества смс пакета "
   ]
  },
  {
   "cell_type": "markdown",
   "metadata": {},
   "source": [
    "1. Подготовьте данные\n",
    "    * Приведите данные к нужным типам;\n",
    "    * Найдите и исправьте ошибки в данных, если они есть.\n",
    "2. Посчитайте для каждого пользователя:\n",
    "    * количество сделанных звонков и израсходованных минут разговора по месяцам;\n",
    "    * количество отправленных сообщений по месяцам;\n",
    "    * объем израсходованного интернет-трафика по месяцам;\n",
    "    * помесячную выручку с каждого пользователя (вычтите бесплатный лимит из суммарного количества звонков, сообщений и интернет-трафика; остаток умножьте на значение из тарифного плана; прибавьте абонентскую плату, соответствующую тарифному плану).\n",
    "3. Проанализируйте данные\n",
    "    * Опишите поведение клиентов оператора, исходя из выборки. Сколько минут разговора, сколько сообщений и какой объём интернет-трафика требуется пользователям каждого тарифа в месяц? Посчитайте среднее количество, дисперсию и стандартное отклонение. Постройте гистограммы. Опишите распределения.\n",
    "4. Проверьте гипотезы:\n",
    "    * средняя выручка пользователей тарифов «VIP», «Стандартный» различаются\n",
    "    * средняя выручка пользователей тарифа «Премиум» больше чем средняя выручка пользователей тарифа «VIP»\n",
    "        - Пороговое значение alpha задайте самостоятельно\n",
    "5. Поясните:\n",
    "    * как вы формулировали нулевую и альтернативную гипотезы;\n",
    "    * какой критерий использовали для проверки гипотез и почему.\n",
    "6. Сделайте финальные выводы"
   ]
  },
  {
   "cell_type": "markdown",
   "metadata": {},
   "source": [
    "# Жданов Н.А. РИМ-110971"
   ]
  },
  {
   "cell_type": "markdown",
   "metadata": {
    "collapsed": true
   },
   "source": [
    "# Подготовка данных"
   ]
  },
  {
   "cell_type": "code",
   "execution_count": 2,
   "metadata": {},
   "outputs": [],
   "source": [
    "import numpy as np\n",
    "import random\n",
    "import matplotlib.pyplot as plt\n",
    "%matplotlib inline\n",
    "import scipy\n",
    "import pandas as pd"
   ]
  },
  {
   "cell_type": "code",
   "execution_count": 3,
   "metadata": {},
   "outputs": [],
   "source": [
    "history = pd.read_csv('history.csv', sep=',', encoding='cp1251', encoding_errors='ignore')\n",
    "tariffs = pd.read_csv('tariffs.csv', sep=',',encoding='cp1251', encoding_errors='ignore')"
   ]
  },
  {
   "cell_type": "code",
   "execution_count": 4,
   "metadata": {},
   "outputs": [
    {
     "data": {
      "text/html": [
       "<div>\n",
       "<style scoped>\n",
       "    .dataframe tbody tr th:only-of-type {\n",
       "        vertical-align: middle;\n",
       "    }\n",
       "\n",
       "    .dataframe tbody tr th {\n",
       "        vertical-align: top;\n",
       "    }\n",
       "\n",
       "    .dataframe thead th {\n",
       "        text-align: right;\n",
       "    }\n",
       "</style>\n",
       "<table border=\"1\" class=\"dataframe\">\n",
       "  <thead>\n",
       "    <tr style=\"text-align: right;\">\n",
       "      <th></th>\n",
       "      <th>Unnamed: 0</th>\n",
       "      <th>date</th>\n",
       "      <th>user_id</th>\n",
       "      <th>tariff</th>\n",
       "      <th>gb</th>\n",
       "      <th>min</th>\n",
       "      <th>sms</th>\n",
       "      <th>count_calls</th>\n",
       "    </tr>\n",
       "  </thead>\n",
       "  <tbody>\n",
       "    <tr>\n",
       "      <th>0</th>\n",
       "      <td>0</td>\n",
       "      <td>23/02/2018</td>\n",
       "      <td>100602</td>\n",
       "      <td>Стандартный</td>\n",
       "      <td>2.18</td>\n",
       "      <td>1.0</td>\n",
       "      <td>2.0</td>\n",
       "      <td>1</td>\n",
       "    </tr>\n",
       "    <tr>\n",
       "      <th>1</th>\n",
       "      <td>1</td>\n",
       "      <td>23/03/2018</td>\n",
       "      <td>102494</td>\n",
       "      <td>Стандартный</td>\n",
       "      <td>4.23</td>\n",
       "      <td>4.0</td>\n",
       "      <td>2.0</td>\n",
       "      <td>1</td>\n",
       "    </tr>\n",
       "    <tr>\n",
       "      <th>2</th>\n",
       "      <td>2</td>\n",
       "      <td>30/07/2018</td>\n",
       "      <td>101593</td>\n",
       "      <td>Стандартный</td>\n",
       "      <td>4.91</td>\n",
       "      <td>7.0</td>\n",
       "      <td>2.0</td>\n",
       "      <td>2</td>\n",
       "    </tr>\n",
       "    <tr>\n",
       "      <th>3</th>\n",
       "      <td>3</td>\n",
       "      <td>27/02/2018</td>\n",
       "      <td>102541</td>\n",
       "      <td>Стандартный</td>\n",
       "      <td>1.60</td>\n",
       "      <td>9.0</td>\n",
       "      <td>2.0</td>\n",
       "      <td>2</td>\n",
       "    </tr>\n",
       "    <tr>\n",
       "      <th>4</th>\n",
       "      <td>4</td>\n",
       "      <td>01/08/2018</td>\n",
       "      <td>101477</td>\n",
       "      <td>Стандартный</td>\n",
       "      <td>1.63</td>\n",
       "      <td>8.0</td>\n",
       "      <td>2.0</td>\n",
       "      <td>2</td>\n",
       "    </tr>\n",
       "  </tbody>\n",
       "</table>\n",
       "</div>"
      ],
      "text/plain": [
       "   Unnamed: 0        date  user_id       tariff    gb  min  sms  count_calls\n",
       "0           0  23/02/2018   100602  Стандартный  2.18  1.0  2.0            1\n",
       "1           1  23/03/2018   102494  Стандартный  4.23  4.0  2.0            1\n",
       "2           2  30/07/2018   101593  Стандартный  4.91  7.0  2.0            2\n",
       "3           3  27/02/2018   102541  Стандартный  1.60  9.0  2.0            2\n",
       "4           4  01/08/2018   101477  Стандартный  1.63  8.0  2.0            2"
      ]
     },
     "execution_count": 4,
     "metadata": {},
     "output_type": "execute_result"
    }
   ],
   "source": [
    "history.head()"
   ]
  },
  {
   "cell_type": "code",
   "execution_count": 5,
   "metadata": {
    "scrolled": true
   },
   "outputs": [
    {
     "name": "stdout",
     "output_type": "stream",
     "text": [
      "<class 'pandas.core.frame.DataFrame'>\n",
      "RangeIndex: 848000 entries, 0 to 847999\n",
      "Data columns (total 8 columns):\n",
      " #   Column       Non-Null Count   Dtype  \n",
      "---  ------       --------------   -----  \n",
      " 0   Unnamed: 0   848000 non-null  int64  \n",
      " 1   date         848000 non-null  object \n",
      " 2   user_id      848000 non-null  int64  \n",
      " 3   tariff       848000 non-null  object \n",
      " 4   gb           848000 non-null  float64\n",
      " 5   min          848000 non-null  float64\n",
      " 6   sms          848000 non-null  float64\n",
      " 7   count_calls  848000 non-null  int64  \n",
      "dtypes: float64(3), int64(3), object(2)\n",
      "memory usage: 51.8+ MB\n"
     ]
    }
   ],
   "source": [
    "history.info()"
   ]
  },
  {
   "cell_type": "code",
   "execution_count": 6,
   "metadata": {},
   "outputs": [
    {
     "data": {
      "text/html": [
       "<div>\n",
       "<style scoped>\n",
       "    .dataframe tbody tr th:only-of-type {\n",
       "        vertical-align: middle;\n",
       "    }\n",
       "\n",
       "    .dataframe tbody tr th {\n",
       "        vertical-align: top;\n",
       "    }\n",
       "\n",
       "    .dataframe thead th {\n",
       "        text-align: right;\n",
       "    }\n",
       "</style>\n",
       "<table border=\"1\" class=\"dataframe\">\n",
       "  <thead>\n",
       "    <tr style=\"text-align: right;\">\n",
       "      <th></th>\n",
       "      <th>Unnamed: 0</th>\n",
       "      <th>date</th>\n",
       "      <th>user_id</th>\n",
       "      <th>tariff</th>\n",
       "      <th>gb</th>\n",
       "      <th>min</th>\n",
       "      <th>sms</th>\n",
       "      <th>count_calls</th>\n",
       "    </tr>\n",
       "  </thead>\n",
       "  <tbody>\n",
       "  </tbody>\n",
       "</table>\n",
       "</div>"
      ],
      "text/plain": [
       "Empty DataFrame\n",
       "Columns: [Unnamed: 0, date, user_id, tariff, gb, min, sms, count_calls]\n",
       "Index: []"
      ]
     },
     "execution_count": 6,
     "metadata": {},
     "output_type": "execute_result"
    }
   ],
   "source": [
    "duplicateRowsDF = history[history.duplicated()]\n",
    "duplicateRowsDF"
   ]
  },
  {
   "cell_type": "code",
   "execution_count": 7,
   "metadata": {},
   "outputs": [
    {
     "data": {
      "text/plain": [
       "gb             False\n",
       "min            False\n",
       "sms            False\n",
       "count_calls    False\n",
       "dtype: bool"
      ]
     },
     "execution_count": 7,
     "metadata": {},
     "output_type": "execute_result"
    }
   ],
   "source": [
    "(history[['gb','min','sms','count_calls']] < 0).any()"
   ]
  },
  {
   "cell_type": "code",
   "execution_count": 8,
   "metadata": {},
   "outputs": [
    {
     "data": {
      "text/html": [
       "<div>\n",
       "<style scoped>\n",
       "    .dataframe tbody tr th:only-of-type {\n",
       "        vertical-align: middle;\n",
       "    }\n",
       "\n",
       "    .dataframe tbody tr th {\n",
       "        vertical-align: top;\n",
       "    }\n",
       "\n",
       "    .dataframe thead th {\n",
       "        text-align: right;\n",
       "    }\n",
       "</style>\n",
       "<table border=\"1\" class=\"dataframe\">\n",
       "  <thead>\n",
       "    <tr style=\"text-align: right;\">\n",
       "      <th></th>\n",
       "      <th>Unnamed: 0</th>\n",
       "      <th>tariff</th>\n",
       "      <th>min</th>\n",
       "      <th>gb</th>\n",
       "      <th>sms</th>\n",
       "      <th>price</th>\n",
       "      <th>price_1min</th>\n",
       "      <th>price_1gb</th>\n",
       "      <th>price_1sms</th>\n",
       "    </tr>\n",
       "  </thead>\n",
       "  <tbody>\n",
       "    <tr>\n",
       "      <th>0</th>\n",
       "      <td>0</td>\n",
       "      <td>Стандартный</td>\n",
       "      <td>250</td>\n",
       "      <td>5</td>\n",
       "      <td>50</td>\n",
       "      <td>300</td>\n",
       "      <td>2.0</td>\n",
       "      <td>100</td>\n",
       "      <td>5</td>\n",
       "    </tr>\n",
       "    <tr>\n",
       "      <th>1</th>\n",
       "      <td>1</td>\n",
       "      <td>VIP</td>\n",
       "      <td>1500</td>\n",
       "      <td>50</td>\n",
       "      <td>200</td>\n",
       "      <td>900</td>\n",
       "      <td>1.6</td>\n",
       "      <td>100</td>\n",
       "      <td>5</td>\n",
       "    </tr>\n",
       "    <tr>\n",
       "      <th>2</th>\n",
       "      <td>2</td>\n",
       "      <td>Премиум</td>\n",
       "      <td>3000</td>\n",
       "      <td>70</td>\n",
       "      <td>500</td>\n",
       "      <td>2000</td>\n",
       "      <td>1.5</td>\n",
       "      <td>100</td>\n",
       "      <td>5</td>\n",
       "    </tr>\n",
       "  </tbody>\n",
       "</table>\n",
       "</div>"
      ],
      "text/plain": [
       "   Unnamed: 0       tariff   min  gb  sms  price  price_1min  price_1gb  \\\n",
       "0           0  Стандартный   250   5   50    300         2.0        100   \n",
       "1           1          VIP  1500  50  200    900         1.6        100   \n",
       "2           2      Премиум  3000  70  500   2000         1.5        100   \n",
       "\n",
       "   price_1sms  \n",
       "0           5  \n",
       "1           5  \n",
       "2           5  "
      ]
     },
     "execution_count": 8,
     "metadata": {},
     "output_type": "execute_result"
    }
   ],
   "source": [
    "tariffs.head()"
   ]
  },
  {
   "cell_type": "code",
   "execution_count": 9,
   "metadata": {},
   "outputs": [
    {
     "name": "stdout",
     "output_type": "stream",
     "text": [
      "<class 'pandas.core.frame.DataFrame'>\n",
      "RangeIndex: 3 entries, 0 to 2\n",
      "Data columns (total 9 columns):\n",
      " #   Column      Non-Null Count  Dtype  \n",
      "---  ------      --------------  -----  \n",
      " 0   Unnamed: 0  3 non-null      int64  \n",
      " 1   tariff      3 non-null      object \n",
      " 2   min         3 non-null      int64  \n",
      " 3   gb          3 non-null      int64  \n",
      " 4   sms         3 non-null      int64  \n",
      " 5   price       3 non-null      int64  \n",
      " 6   price_1min  3 non-null      float64\n",
      " 7   price_1gb   3 non-null      int64  \n",
      " 8   price_1sms  3 non-null      int64  \n",
      "dtypes: float64(1), int64(7), object(1)\n",
      "memory usage: 344.0+ bytes\n"
     ]
    }
   ],
   "source": [
    "tariffs.info()"
   ]
  },
  {
   "cell_type": "code",
   "execution_count": 10,
   "metadata": {},
   "outputs": [],
   "source": [
    "history['sms']=history['sms'].astype('int')"
   ]
  },
  {
   "cell_type": "code",
   "execution_count": 11,
   "metadata": {},
   "outputs": [],
   "source": [
    "history[\"date\"] = pd.to_datetime(history[\"date\"])"
   ]
  },
  {
   "cell_type": "markdown",
   "metadata": {},
   "source": [
    "Все данные приведены к нужным типам. В датасете нет nan, повторяющихся строк и отрицательных значений."
   ]
  },
  {
   "cell_type": "markdown",
   "metadata": {},
   "source": [
    "# Для каждого пользователя"
   ]
  },
  {
   "cell_type": "code",
   "execution_count": 12,
   "metadata": {},
   "outputs": [],
   "source": [
    "history = history.sort_values(by='date', ascending=True)"
   ]
  },
  {
   "cell_type": "code",
   "execution_count": 13,
   "metadata": {},
   "outputs": [
    {
     "data": {
      "text/html": [
       "<div>\n",
       "<style scoped>\n",
       "    .dataframe tbody tr th:only-of-type {\n",
       "        vertical-align: middle;\n",
       "    }\n",
       "\n",
       "    .dataframe tbody tr th {\n",
       "        vertical-align: top;\n",
       "    }\n",
       "\n",
       "    .dataframe thead th {\n",
       "        text-align: right;\n",
       "    }\n",
       "</style>\n",
       "<table border=\"1\" class=\"dataframe\">\n",
       "  <thead>\n",
       "    <tr style=\"text-align: right;\">\n",
       "      <th></th>\n",
       "      <th>Unnamed: 0</th>\n",
       "      <th>date</th>\n",
       "      <th>user_id</th>\n",
       "      <th>tariff</th>\n",
       "      <th>gb</th>\n",
       "      <th>min</th>\n",
       "      <th>sms</th>\n",
       "      <th>count_calls</th>\n",
       "    </tr>\n",
       "  </thead>\n",
       "  <tbody>\n",
       "    <tr>\n",
       "      <th>42736</th>\n",
       "      <td>42736</td>\n",
       "      <td>2018-01-02</td>\n",
       "      <td>101969</td>\n",
       "      <td>Стандартный</td>\n",
       "      <td>3.47</td>\n",
       "      <td>10.0</td>\n",
       "      <td>2</td>\n",
       "      <td>2</td>\n",
       "    </tr>\n",
       "    <tr>\n",
       "      <th>446560</th>\n",
       "      <td>446560</td>\n",
       "      <td>2018-01-02</td>\n",
       "      <td>100381</td>\n",
       "      <td>Стандартный</td>\n",
       "      <td>2.19</td>\n",
       "      <td>10.0</td>\n",
       "      <td>2</td>\n",
       "      <td>2</td>\n",
       "    </tr>\n",
       "    <tr>\n",
       "      <th>446732</th>\n",
       "      <td>446732</td>\n",
       "      <td>2018-01-02</td>\n",
       "      <td>100694</td>\n",
       "      <td>VIP</td>\n",
       "      <td>3.21</td>\n",
       "      <td>37.0</td>\n",
       "      <td>2</td>\n",
       "      <td>4</td>\n",
       "    </tr>\n",
       "    <tr>\n",
       "      <th>446739</th>\n",
       "      <td>446739</td>\n",
       "      <td>2018-01-02</td>\n",
       "      <td>102077</td>\n",
       "      <td>Стандартный</td>\n",
       "      <td>2.03</td>\n",
       "      <td>11.0</td>\n",
       "      <td>2</td>\n",
       "      <td>2</td>\n",
       "    </tr>\n",
       "    <tr>\n",
       "      <th>719706</th>\n",
       "      <td>719706</td>\n",
       "      <td>2018-01-02</td>\n",
       "      <td>102717</td>\n",
       "      <td>Премиум</td>\n",
       "      <td>0.81</td>\n",
       "      <td>3.0</td>\n",
       "      <td>14</td>\n",
       "      <td>1</td>\n",
       "    </tr>\n",
       "  </tbody>\n",
       "</table>\n",
       "</div>"
      ],
      "text/plain": [
       "        Unnamed: 0       date  user_id       tariff    gb   min  sms  \\\n",
       "42736        42736 2018-01-02   101969  Стандартный  3.47  10.0    2   \n",
       "446560      446560 2018-01-02   100381  Стандартный  2.19  10.0    2   \n",
       "446732      446732 2018-01-02   100694          VIP  3.21  37.0    2   \n",
       "446739      446739 2018-01-02   102077  Стандартный  2.03  11.0    2   \n",
       "719706      719706 2018-01-02   102717      Премиум  0.81   3.0   14   \n",
       "\n",
       "        count_calls  \n",
       "42736             2  \n",
       "446560            2  \n",
       "446732            4  \n",
       "446739            2  \n",
       "719706            1  "
      ]
     },
     "execution_count": 13,
     "metadata": {},
     "output_type": "execute_result"
    }
   ],
   "source": [
    "history.head()"
   ]
  },
  {
   "cell_type": "code",
   "execution_count": 14,
   "metadata": {},
   "outputs": [],
   "source": [
    "user_uni=history['user_id'].unique()"
   ]
  },
  {
   "cell_type": "code",
   "execution_count": 15,
   "metadata": {},
   "outputs": [
    {
     "data": {
      "text/plain": [
       "4000"
      ]
     },
     "execution_count": 15,
     "metadata": {},
     "output_type": "execute_result"
    }
   ],
   "source": [
    "user_uni.size"
   ]
  },
  {
   "cell_type": "code",
   "execution_count": 16,
   "metadata": {},
   "outputs": [
    {
     "data": {
      "text/plain": [
       "array([101969, 100381, 100694, ..., 102430, 101974, 100519], dtype=int64)"
      ]
     },
     "execution_count": 16,
     "metadata": {},
     "output_type": "execute_result"
    }
   ],
   "source": [
    "user_uni"
   ]
  },
  {
   "cell_type": "markdown",
   "metadata": {},
   "source": [
    "Создан список из 4000 уникальных пользователей"
   ]
  },
  {
   "cell_type": "code",
   "execution_count": 17,
   "metadata": {},
   "outputs": [],
   "source": [
    "history[\"month\"] = history[\"date\"].dt.month"
   ]
  },
  {
   "cell_type": "code",
   "execution_count": 18,
   "metadata": {},
   "outputs": [],
   "source": [
    "month_calls=[]\n",
    "month_mins=[]\n",
    "month=[]\n",
    "user_id=[]\n",
    "for user in user_uni:\n",
    "    for j in range(1,13):\n",
    "        m_calls=history['count_calls'].loc[(history['month']==j)&(history['user_id']==user)].sum()\n",
    "        m_mins=history['min'].loc[(history['month']==j)&(history['user_id']==user)].sum()\n",
    "        month.append(j)\n",
    "        user_id.append(user)\n",
    "        month_calls.append(m_calls)\n",
    "        month_mins.append(m_mins)"
   ]
  },
  {
   "cell_type": "code",
   "execution_count": 19,
   "metadata": {},
   "outputs": [],
   "source": [
    "monthly = pd.DataFrame(list(zip(user_id, month, month_calls, month_mins)),\n",
    "               columns =['user_id', 'month', 'month_calls', 'month_mins'])"
   ]
  },
  {
   "cell_type": "code",
   "execution_count": 20,
   "metadata": {},
   "outputs": [
    {
     "data": {
      "text/html": [
       "<div>\n",
       "<style scoped>\n",
       "    .dataframe tbody tr th:only-of-type {\n",
       "        vertical-align: middle;\n",
       "    }\n",
       "\n",
       "    .dataframe tbody tr th {\n",
       "        vertical-align: top;\n",
       "    }\n",
       "\n",
       "    .dataframe thead th {\n",
       "        text-align: right;\n",
       "    }\n",
       "</style>\n",
       "<table border=\"1\" class=\"dataframe\">\n",
       "  <thead>\n",
       "    <tr style=\"text-align: right;\">\n",
       "      <th></th>\n",
       "      <th>user_id</th>\n",
       "      <th>month</th>\n",
       "      <th>month_calls</th>\n",
       "      <th>month_mins</th>\n",
       "    </tr>\n",
       "  </thead>\n",
       "  <tbody>\n",
       "    <tr>\n",
       "      <th>0</th>\n",
       "      <td>101969</td>\n",
       "      <td>1</td>\n",
       "      <td>15</td>\n",
       "      <td>69.0</td>\n",
       "    </tr>\n",
       "    <tr>\n",
       "      <th>1</th>\n",
       "      <td>101969</td>\n",
       "      <td>2</td>\n",
       "      <td>50</td>\n",
       "      <td>237.0</td>\n",
       "    </tr>\n",
       "    <tr>\n",
       "      <th>2</th>\n",
       "      <td>101969</td>\n",
       "      <td>3</td>\n",
       "      <td>54</td>\n",
       "      <td>251.0</td>\n",
       "    </tr>\n",
       "    <tr>\n",
       "      <th>3</th>\n",
       "      <td>101969</td>\n",
       "      <td>4</td>\n",
       "      <td>49</td>\n",
       "      <td>230.0</td>\n",
       "    </tr>\n",
       "    <tr>\n",
       "      <th>4</th>\n",
       "      <td>101969</td>\n",
       "      <td>5</td>\n",
       "      <td>50</td>\n",
       "      <td>215.0</td>\n",
       "    </tr>\n",
       "    <tr>\n",
       "      <th>...</th>\n",
       "      <td>...</td>\n",
       "      <td>...</td>\n",
       "      <td>...</td>\n",
       "      <td>...</td>\n",
       "    </tr>\n",
       "    <tr>\n",
       "      <th>47995</th>\n",
       "      <td>100519</td>\n",
       "      <td>8</td>\n",
       "      <td>50</td>\n",
       "      <td>227.0</td>\n",
       "    </tr>\n",
       "    <tr>\n",
       "      <th>47996</th>\n",
       "      <td>100519</td>\n",
       "      <td>9</td>\n",
       "      <td>11</td>\n",
       "      <td>44.0</td>\n",
       "    </tr>\n",
       "    <tr>\n",
       "      <th>47997</th>\n",
       "      <td>100519</td>\n",
       "      <td>10</td>\n",
       "      <td>10</td>\n",
       "      <td>51.0</td>\n",
       "    </tr>\n",
       "    <tr>\n",
       "      <th>47998</th>\n",
       "      <td>100519</td>\n",
       "      <td>11</td>\n",
       "      <td>15</td>\n",
       "      <td>65.0</td>\n",
       "    </tr>\n",
       "    <tr>\n",
       "      <th>47999</th>\n",
       "      <td>100519</td>\n",
       "      <td>12</td>\n",
       "      <td>16</td>\n",
       "      <td>79.0</td>\n",
       "    </tr>\n",
       "  </tbody>\n",
       "</table>\n",
       "<p>48000 rows × 4 columns</p>\n",
       "</div>"
      ],
      "text/plain": [
       "       user_id  month  month_calls  month_mins\n",
       "0       101969      1           15        69.0\n",
       "1       101969      2           50       237.0\n",
       "2       101969      3           54       251.0\n",
       "3       101969      4           49       230.0\n",
       "4       101969      5           50       215.0\n",
       "...        ...    ...          ...         ...\n",
       "47995   100519      8           50       227.0\n",
       "47996   100519      9           11        44.0\n",
       "47997   100519     10           10        51.0\n",
       "47998   100519     11           15        65.0\n",
       "47999   100519     12           16        79.0\n",
       "\n",
       "[48000 rows x 4 columns]"
      ]
     },
     "execution_count": 20,
     "metadata": {},
     "output_type": "execute_result"
    }
   ],
   "source": [
    "monthly"
   ]
  },
  {
   "cell_type": "markdown",
   "metadata": {},
   "source": [
    "Для каждого пользователя выведены звонки и минуты за 12 месяцев"
   ]
  },
  {
   "cell_type": "code",
   "execution_count": 21,
   "metadata": {},
   "outputs": [],
   "source": [
    "month_gb=[]\n",
    "month_sms=[]\n",
    "for user in user_uni:\n",
    "    for j in range(1,13):\n",
    "        m_gb=history['gb'].loc[(history['month']==j)&(history['user_id']==user)].sum()\n",
    "        m_sms=history['sms'].loc[(history['month']==j)&(history['user_id']==user)].sum()\n",
    "        month_gb.append(m_gb)\n",
    "        month_sms.append(m_sms)"
   ]
  },
  {
   "cell_type": "code",
   "execution_count": 22,
   "metadata": {},
   "outputs": [],
   "source": [
    "monthly = pd.DataFrame(list(zip(user_id, month, month_calls, month_mins, month_sms, month_gb)),\n",
    "               columns =['user_id', 'month', 'month_calls', 'month_mins', 'month_sms', 'month_gb'])"
   ]
  },
  {
   "cell_type": "code",
   "execution_count": 23,
   "metadata": {},
   "outputs": [
    {
     "data": {
      "text/html": [
       "<div>\n",
       "<style scoped>\n",
       "    .dataframe tbody tr th:only-of-type {\n",
       "        vertical-align: middle;\n",
       "    }\n",
       "\n",
       "    .dataframe tbody tr th {\n",
       "        vertical-align: top;\n",
       "    }\n",
       "\n",
       "    .dataframe thead th {\n",
       "        text-align: right;\n",
       "    }\n",
       "</style>\n",
       "<table border=\"1\" class=\"dataframe\">\n",
       "  <thead>\n",
       "    <tr style=\"text-align: right;\">\n",
       "      <th></th>\n",
       "      <th>user_id</th>\n",
       "      <th>month</th>\n",
       "      <th>month_calls</th>\n",
       "      <th>month_mins</th>\n",
       "      <th>month_sms</th>\n",
       "      <th>month_gb</th>\n",
       "    </tr>\n",
       "  </thead>\n",
       "  <tbody>\n",
       "    <tr>\n",
       "      <th>0</th>\n",
       "      <td>101969</td>\n",
       "      <td>1</td>\n",
       "      <td>15</td>\n",
       "      <td>69.0</td>\n",
       "      <td>14</td>\n",
       "      <td>21.30</td>\n",
       "    </tr>\n",
       "    <tr>\n",
       "      <th>1</th>\n",
       "      <td>101969</td>\n",
       "      <td>2</td>\n",
       "      <td>50</td>\n",
       "      <td>237.0</td>\n",
       "      <td>41</td>\n",
       "      <td>66.25</td>\n",
       "    </tr>\n",
       "    <tr>\n",
       "      <th>2</th>\n",
       "      <td>101969</td>\n",
       "      <td>3</td>\n",
       "      <td>54</td>\n",
       "      <td>251.0</td>\n",
       "      <td>49</td>\n",
       "      <td>70.46</td>\n",
       "    </tr>\n",
       "    <tr>\n",
       "      <th>3</th>\n",
       "      <td>101969</td>\n",
       "      <td>4</td>\n",
       "      <td>49</td>\n",
       "      <td>230.0</td>\n",
       "      <td>50</td>\n",
       "      <td>85.33</td>\n",
       "    </tr>\n",
       "    <tr>\n",
       "      <th>4</th>\n",
       "      <td>101969</td>\n",
       "      <td>5</td>\n",
       "      <td>50</td>\n",
       "      <td>215.0</td>\n",
       "      <td>53</td>\n",
       "      <td>84.90</td>\n",
       "    </tr>\n",
       "    <tr>\n",
       "      <th>...</th>\n",
       "      <td>...</td>\n",
       "      <td>...</td>\n",
       "      <td>...</td>\n",
       "      <td>...</td>\n",
       "      <td>...</td>\n",
       "      <td>...</td>\n",
       "    </tr>\n",
       "    <tr>\n",
       "      <th>47995</th>\n",
       "      <td>100519</td>\n",
       "      <td>8</td>\n",
       "      <td>50</td>\n",
       "      <td>227.0</td>\n",
       "      <td>52</td>\n",
       "      <td>75.22</td>\n",
       "    </tr>\n",
       "    <tr>\n",
       "      <th>47996</th>\n",
       "      <td>100519</td>\n",
       "      <td>9</td>\n",
       "      <td>11</td>\n",
       "      <td>44.0</td>\n",
       "      <td>14</td>\n",
       "      <td>24.39</td>\n",
       "    </tr>\n",
       "    <tr>\n",
       "      <th>47997</th>\n",
       "      <td>100519</td>\n",
       "      <td>10</td>\n",
       "      <td>10</td>\n",
       "      <td>51.0</td>\n",
       "      <td>14</td>\n",
       "      <td>18.01</td>\n",
       "    </tr>\n",
       "    <tr>\n",
       "      <th>47998</th>\n",
       "      <td>100519</td>\n",
       "      <td>11</td>\n",
       "      <td>15</td>\n",
       "      <td>65.0</td>\n",
       "      <td>14</td>\n",
       "      <td>24.41</td>\n",
       "    </tr>\n",
       "    <tr>\n",
       "      <th>47999</th>\n",
       "      <td>100519</td>\n",
       "      <td>12</td>\n",
       "      <td>16</td>\n",
       "      <td>79.0</td>\n",
       "      <td>13</td>\n",
       "      <td>23.70</td>\n",
       "    </tr>\n",
       "  </tbody>\n",
       "</table>\n",
       "<p>48000 rows × 6 columns</p>\n",
       "</div>"
      ],
      "text/plain": [
       "       user_id  month  month_calls  month_mins  month_sms  month_gb\n",
       "0       101969      1           15        69.0         14     21.30\n",
       "1       101969      2           50       237.0         41     66.25\n",
       "2       101969      3           54       251.0         49     70.46\n",
       "3       101969      4           49       230.0         50     85.33\n",
       "4       101969      5           50       215.0         53     84.90\n",
       "...        ...    ...          ...         ...        ...       ...\n",
       "47995   100519      8           50       227.0         52     75.22\n",
       "47996   100519      9           11        44.0         14     24.39\n",
       "47997   100519     10           10        51.0         14     18.01\n",
       "47998   100519     11           15        65.0         14     24.41\n",
       "47999   100519     12           16        79.0         13     23.70\n",
       "\n",
       "[48000 rows x 6 columns]"
      ]
     },
     "execution_count": 23,
     "metadata": {},
     "output_type": "execute_result"
    }
   ],
   "source": [
    "monthly"
   ]
  },
  {
   "cell_type": "markdown",
   "metadata": {},
   "source": [
    "Для каждого пользователя выведены смс и гб за 12 месяцев"
   ]
  },
  {
   "cell_type": "code",
   "execution_count": 24,
   "metadata": {},
   "outputs": [],
   "source": [
    "cut=history[['user_id','tariff']]"
   ]
  },
  {
   "cell_type": "code",
   "execution_count": 25,
   "metadata": {},
   "outputs": [],
   "source": [
    "cut=cut.drop_duplicates()"
   ]
  },
  {
   "cell_type": "code",
   "execution_count": 26,
   "metadata": {},
   "outputs": [],
   "source": [
    "count=pd.merge(monthly,cut,how='left',on='user_id')"
   ]
  },
  {
   "cell_type": "code",
   "execution_count": 27,
   "metadata": {},
   "outputs": [
    {
     "data": {
      "text/html": [
       "<div>\n",
       "<style scoped>\n",
       "    .dataframe tbody tr th:only-of-type {\n",
       "        vertical-align: middle;\n",
       "    }\n",
       "\n",
       "    .dataframe tbody tr th {\n",
       "        vertical-align: top;\n",
       "    }\n",
       "\n",
       "    .dataframe thead th {\n",
       "        text-align: right;\n",
       "    }\n",
       "</style>\n",
       "<table border=\"1\" class=\"dataframe\">\n",
       "  <thead>\n",
       "    <tr style=\"text-align: right;\">\n",
       "      <th></th>\n",
       "      <th>user_id</th>\n",
       "      <th>month</th>\n",
       "      <th>month_calls</th>\n",
       "      <th>month_mins</th>\n",
       "      <th>month_sms</th>\n",
       "      <th>month_gb</th>\n",
       "      <th>tariff</th>\n",
       "    </tr>\n",
       "  </thead>\n",
       "  <tbody>\n",
       "    <tr>\n",
       "      <th>0</th>\n",
       "      <td>101969</td>\n",
       "      <td>1</td>\n",
       "      <td>15</td>\n",
       "      <td>69.0</td>\n",
       "      <td>14</td>\n",
       "      <td>21.30</td>\n",
       "      <td>Стандартный</td>\n",
       "    </tr>\n",
       "    <tr>\n",
       "      <th>1</th>\n",
       "      <td>101969</td>\n",
       "      <td>2</td>\n",
       "      <td>50</td>\n",
       "      <td>237.0</td>\n",
       "      <td>41</td>\n",
       "      <td>66.25</td>\n",
       "      <td>Стандартный</td>\n",
       "    </tr>\n",
       "    <tr>\n",
       "      <th>2</th>\n",
       "      <td>101969</td>\n",
       "      <td>3</td>\n",
       "      <td>54</td>\n",
       "      <td>251.0</td>\n",
       "      <td>49</td>\n",
       "      <td>70.46</td>\n",
       "      <td>Стандартный</td>\n",
       "    </tr>\n",
       "    <tr>\n",
       "      <th>3</th>\n",
       "      <td>101969</td>\n",
       "      <td>4</td>\n",
       "      <td>49</td>\n",
       "      <td>230.0</td>\n",
       "      <td>50</td>\n",
       "      <td>85.33</td>\n",
       "      <td>Стандартный</td>\n",
       "    </tr>\n",
       "    <tr>\n",
       "      <th>4</th>\n",
       "      <td>101969</td>\n",
       "      <td>5</td>\n",
       "      <td>50</td>\n",
       "      <td>215.0</td>\n",
       "      <td>53</td>\n",
       "      <td>84.90</td>\n",
       "      <td>Стандартный</td>\n",
       "    </tr>\n",
       "    <tr>\n",
       "      <th>...</th>\n",
       "      <td>...</td>\n",
       "      <td>...</td>\n",
       "      <td>...</td>\n",
       "      <td>...</td>\n",
       "      <td>...</td>\n",
       "      <td>...</td>\n",
       "      <td>...</td>\n",
       "    </tr>\n",
       "    <tr>\n",
       "      <th>47995</th>\n",
       "      <td>100519</td>\n",
       "      <td>8</td>\n",
       "      <td>50</td>\n",
       "      <td>227.0</td>\n",
       "      <td>52</td>\n",
       "      <td>75.22</td>\n",
       "      <td>Стандартный</td>\n",
       "    </tr>\n",
       "    <tr>\n",
       "      <th>47996</th>\n",
       "      <td>100519</td>\n",
       "      <td>9</td>\n",
       "      <td>11</td>\n",
       "      <td>44.0</td>\n",
       "      <td>14</td>\n",
       "      <td>24.39</td>\n",
       "      <td>Стандартный</td>\n",
       "    </tr>\n",
       "    <tr>\n",
       "      <th>47997</th>\n",
       "      <td>100519</td>\n",
       "      <td>10</td>\n",
       "      <td>10</td>\n",
       "      <td>51.0</td>\n",
       "      <td>14</td>\n",
       "      <td>18.01</td>\n",
       "      <td>Стандартный</td>\n",
       "    </tr>\n",
       "    <tr>\n",
       "      <th>47998</th>\n",
       "      <td>100519</td>\n",
       "      <td>11</td>\n",
       "      <td>15</td>\n",
       "      <td>65.0</td>\n",
       "      <td>14</td>\n",
       "      <td>24.41</td>\n",
       "      <td>Стандартный</td>\n",
       "    </tr>\n",
       "    <tr>\n",
       "      <th>47999</th>\n",
       "      <td>100519</td>\n",
       "      <td>12</td>\n",
       "      <td>16</td>\n",
       "      <td>79.0</td>\n",
       "      <td>13</td>\n",
       "      <td>23.70</td>\n",
       "      <td>Стандартный</td>\n",
       "    </tr>\n",
       "  </tbody>\n",
       "</table>\n",
       "<p>48000 rows × 7 columns</p>\n",
       "</div>"
      ],
      "text/plain": [
       "       user_id  month  month_calls  month_mins  month_sms  month_gb  \\\n",
       "0       101969      1           15        69.0         14     21.30   \n",
       "1       101969      2           50       237.0         41     66.25   \n",
       "2       101969      3           54       251.0         49     70.46   \n",
       "3       101969      4           49       230.0         50     85.33   \n",
       "4       101969      5           50       215.0         53     84.90   \n",
       "...        ...    ...          ...         ...        ...       ...   \n",
       "47995   100519      8           50       227.0         52     75.22   \n",
       "47996   100519      9           11        44.0         14     24.39   \n",
       "47997   100519     10           10        51.0         14     18.01   \n",
       "47998   100519     11           15        65.0         14     24.41   \n",
       "47999   100519     12           16        79.0         13     23.70   \n",
       "\n",
       "            tariff  \n",
       "0      Стандартный  \n",
       "1      Стандартный  \n",
       "2      Стандартный  \n",
       "3      Стандартный  \n",
       "4      Стандартный  \n",
       "...            ...  \n",
       "47995  Стандартный  \n",
       "47996  Стандартный  \n",
       "47997  Стандартный  \n",
       "47998  Стандартный  \n",
       "47999  Стандартный  \n",
       "\n",
       "[48000 rows x 7 columns]"
      ]
     },
     "execution_count": 27,
     "metadata": {},
     "output_type": "execute_result"
    }
   ],
   "source": [
    "count"
   ]
  },
  {
   "cell_type": "code",
   "execution_count": 28,
   "metadata": {},
   "outputs": [],
   "source": [
    "count=pd.merge(count,tariffs,how='left',on='tariff')"
   ]
  },
  {
   "cell_type": "code",
   "execution_count": 29,
   "metadata": {},
   "outputs": [],
   "source": [
    "count=count.drop(['Unnamed: 0'],axis=1)"
   ]
  },
  {
   "cell_type": "code",
   "execution_count": 30,
   "metadata": {},
   "outputs": [
    {
     "data": {
      "text/html": [
       "<div>\n",
       "<style scoped>\n",
       "    .dataframe tbody tr th:only-of-type {\n",
       "        vertical-align: middle;\n",
       "    }\n",
       "\n",
       "    .dataframe tbody tr th {\n",
       "        vertical-align: top;\n",
       "    }\n",
       "\n",
       "    .dataframe thead th {\n",
       "        text-align: right;\n",
       "    }\n",
       "</style>\n",
       "<table border=\"1\" class=\"dataframe\">\n",
       "  <thead>\n",
       "    <tr style=\"text-align: right;\">\n",
       "      <th></th>\n",
       "      <th>user_id</th>\n",
       "      <th>month</th>\n",
       "      <th>month_calls</th>\n",
       "      <th>month_mins</th>\n",
       "      <th>month_sms</th>\n",
       "      <th>month_gb</th>\n",
       "      <th>tariff</th>\n",
       "      <th>min</th>\n",
       "      <th>gb</th>\n",
       "      <th>sms</th>\n",
       "      <th>price</th>\n",
       "      <th>price_1min</th>\n",
       "      <th>price_1gb</th>\n",
       "      <th>price_1sms</th>\n",
       "    </tr>\n",
       "  </thead>\n",
       "  <tbody>\n",
       "    <tr>\n",
       "      <th>0</th>\n",
       "      <td>101969</td>\n",
       "      <td>1</td>\n",
       "      <td>15</td>\n",
       "      <td>69.0</td>\n",
       "      <td>14</td>\n",
       "      <td>21.30</td>\n",
       "      <td>Стандартный</td>\n",
       "      <td>250</td>\n",
       "      <td>5</td>\n",
       "      <td>50</td>\n",
       "      <td>300</td>\n",
       "      <td>2.0</td>\n",
       "      <td>100</td>\n",
       "      <td>5</td>\n",
       "    </tr>\n",
       "    <tr>\n",
       "      <th>1</th>\n",
       "      <td>101969</td>\n",
       "      <td>2</td>\n",
       "      <td>50</td>\n",
       "      <td>237.0</td>\n",
       "      <td>41</td>\n",
       "      <td>66.25</td>\n",
       "      <td>Стандартный</td>\n",
       "      <td>250</td>\n",
       "      <td>5</td>\n",
       "      <td>50</td>\n",
       "      <td>300</td>\n",
       "      <td>2.0</td>\n",
       "      <td>100</td>\n",
       "      <td>5</td>\n",
       "    </tr>\n",
       "    <tr>\n",
       "      <th>2</th>\n",
       "      <td>101969</td>\n",
       "      <td>3</td>\n",
       "      <td>54</td>\n",
       "      <td>251.0</td>\n",
       "      <td>49</td>\n",
       "      <td>70.46</td>\n",
       "      <td>Стандартный</td>\n",
       "      <td>250</td>\n",
       "      <td>5</td>\n",
       "      <td>50</td>\n",
       "      <td>300</td>\n",
       "      <td>2.0</td>\n",
       "      <td>100</td>\n",
       "      <td>5</td>\n",
       "    </tr>\n",
       "    <tr>\n",
       "      <th>3</th>\n",
       "      <td>101969</td>\n",
       "      <td>4</td>\n",
       "      <td>49</td>\n",
       "      <td>230.0</td>\n",
       "      <td>50</td>\n",
       "      <td>85.33</td>\n",
       "      <td>Стандартный</td>\n",
       "      <td>250</td>\n",
       "      <td>5</td>\n",
       "      <td>50</td>\n",
       "      <td>300</td>\n",
       "      <td>2.0</td>\n",
       "      <td>100</td>\n",
       "      <td>5</td>\n",
       "    </tr>\n",
       "    <tr>\n",
       "      <th>4</th>\n",
       "      <td>101969</td>\n",
       "      <td>5</td>\n",
       "      <td>50</td>\n",
       "      <td>215.0</td>\n",
       "      <td>53</td>\n",
       "      <td>84.90</td>\n",
       "      <td>Стандартный</td>\n",
       "      <td>250</td>\n",
       "      <td>5</td>\n",
       "      <td>50</td>\n",
       "      <td>300</td>\n",
       "      <td>2.0</td>\n",
       "      <td>100</td>\n",
       "      <td>5</td>\n",
       "    </tr>\n",
       "    <tr>\n",
       "      <th>...</th>\n",
       "      <td>...</td>\n",
       "      <td>...</td>\n",
       "      <td>...</td>\n",
       "      <td>...</td>\n",
       "      <td>...</td>\n",
       "      <td>...</td>\n",
       "      <td>...</td>\n",
       "      <td>...</td>\n",
       "      <td>...</td>\n",
       "      <td>...</td>\n",
       "      <td>...</td>\n",
       "      <td>...</td>\n",
       "      <td>...</td>\n",
       "      <td>...</td>\n",
       "    </tr>\n",
       "    <tr>\n",
       "      <th>47995</th>\n",
       "      <td>100519</td>\n",
       "      <td>8</td>\n",
       "      <td>50</td>\n",
       "      <td>227.0</td>\n",
       "      <td>52</td>\n",
       "      <td>75.22</td>\n",
       "      <td>Стандартный</td>\n",
       "      <td>250</td>\n",
       "      <td>5</td>\n",
       "      <td>50</td>\n",
       "      <td>300</td>\n",
       "      <td>2.0</td>\n",
       "      <td>100</td>\n",
       "      <td>5</td>\n",
       "    </tr>\n",
       "    <tr>\n",
       "      <th>47996</th>\n",
       "      <td>100519</td>\n",
       "      <td>9</td>\n",
       "      <td>11</td>\n",
       "      <td>44.0</td>\n",
       "      <td>14</td>\n",
       "      <td>24.39</td>\n",
       "      <td>Стандартный</td>\n",
       "      <td>250</td>\n",
       "      <td>5</td>\n",
       "      <td>50</td>\n",
       "      <td>300</td>\n",
       "      <td>2.0</td>\n",
       "      <td>100</td>\n",
       "      <td>5</td>\n",
       "    </tr>\n",
       "    <tr>\n",
       "      <th>47997</th>\n",
       "      <td>100519</td>\n",
       "      <td>10</td>\n",
       "      <td>10</td>\n",
       "      <td>51.0</td>\n",
       "      <td>14</td>\n",
       "      <td>18.01</td>\n",
       "      <td>Стандартный</td>\n",
       "      <td>250</td>\n",
       "      <td>5</td>\n",
       "      <td>50</td>\n",
       "      <td>300</td>\n",
       "      <td>2.0</td>\n",
       "      <td>100</td>\n",
       "      <td>5</td>\n",
       "    </tr>\n",
       "    <tr>\n",
       "      <th>47998</th>\n",
       "      <td>100519</td>\n",
       "      <td>11</td>\n",
       "      <td>15</td>\n",
       "      <td>65.0</td>\n",
       "      <td>14</td>\n",
       "      <td>24.41</td>\n",
       "      <td>Стандартный</td>\n",
       "      <td>250</td>\n",
       "      <td>5</td>\n",
       "      <td>50</td>\n",
       "      <td>300</td>\n",
       "      <td>2.0</td>\n",
       "      <td>100</td>\n",
       "      <td>5</td>\n",
       "    </tr>\n",
       "    <tr>\n",
       "      <th>47999</th>\n",
       "      <td>100519</td>\n",
       "      <td>12</td>\n",
       "      <td>16</td>\n",
       "      <td>79.0</td>\n",
       "      <td>13</td>\n",
       "      <td>23.70</td>\n",
       "      <td>Стандартный</td>\n",
       "      <td>250</td>\n",
       "      <td>5</td>\n",
       "      <td>50</td>\n",
       "      <td>300</td>\n",
       "      <td>2.0</td>\n",
       "      <td>100</td>\n",
       "      <td>5</td>\n",
       "    </tr>\n",
       "  </tbody>\n",
       "</table>\n",
       "<p>48000 rows × 14 columns</p>\n",
       "</div>"
      ],
      "text/plain": [
       "       user_id  month  month_calls  month_mins  month_sms  month_gb  \\\n",
       "0       101969      1           15        69.0         14     21.30   \n",
       "1       101969      2           50       237.0         41     66.25   \n",
       "2       101969      3           54       251.0         49     70.46   \n",
       "3       101969      4           49       230.0         50     85.33   \n",
       "4       101969      5           50       215.0         53     84.90   \n",
       "...        ...    ...          ...         ...        ...       ...   \n",
       "47995   100519      8           50       227.0         52     75.22   \n",
       "47996   100519      9           11        44.0         14     24.39   \n",
       "47997   100519     10           10        51.0         14     18.01   \n",
       "47998   100519     11           15        65.0         14     24.41   \n",
       "47999   100519     12           16        79.0         13     23.70   \n",
       "\n",
       "            tariff  min  gb  sms  price  price_1min  price_1gb  price_1sms  \n",
       "0      Стандартный  250   5   50    300         2.0        100           5  \n",
       "1      Стандартный  250   5   50    300         2.0        100           5  \n",
       "2      Стандартный  250   5   50    300         2.0        100           5  \n",
       "3      Стандартный  250   5   50    300         2.0        100           5  \n",
       "4      Стандартный  250   5   50    300         2.0        100           5  \n",
       "...            ...  ...  ..  ...    ...         ...        ...         ...  \n",
       "47995  Стандартный  250   5   50    300         2.0        100           5  \n",
       "47996  Стандартный  250   5   50    300         2.0        100           5  \n",
       "47997  Стандартный  250   5   50    300         2.0        100           5  \n",
       "47998  Стандартный  250   5   50    300         2.0        100           5  \n",
       "47999  Стандартный  250   5   50    300         2.0        100           5  \n",
       "\n",
       "[48000 rows x 14 columns]"
      ]
     },
     "execution_count": 30,
     "metadata": {},
     "output_type": "execute_result"
    }
   ],
   "source": [
    "count"
   ]
  },
  {
   "cell_type": "markdown",
   "metadata": {},
   "source": [
    "Пользователи с тарифными планами"
   ]
  },
  {
   "cell_type": "code",
   "execution_count": 259,
   "metadata": {},
   "outputs": [],
   "source": [
    "gain = pd.DataFrame(columns=['gain'], index=range(len(count)))"
   ]
  },
  {
   "cell_type": "code",
   "execution_count": 263,
   "metadata": {},
   "outputs": [],
   "source": [
    "for i in range(len(count)):\n",
    "    if ((count.iloc[i]['month_mins']-count.iloc[i]['min'])*count.iloc[i]['price_1min']+(count.iloc[i]['month_sms']-count.iloc[i]['sms'])*count.iloc[i]['price_1sms']+(count.iloc[i]['month_gb']-count.iloc[i]['gb'])*count.iloc[i]['price_1gb'])>0:\n",
    "      gain.iloc[i]['gain']=(count.iloc[i]['month_mins']-count.iloc[i]['min'])*count.iloc[i]['price_1min']+(count.iloc[i]['month_sms']-count.iloc[i]['sms'])*count.iloc[i]['price_1sms']+(count.iloc[i]['month_gb']-count.iloc[i]['gb'])*count.iloc[i]['price_1gb']+count.iloc[i]['price']\n",
    "    else:\n",
    "       gain.iloc[i]['gain']=count.iloc[i]['price']\n",
    "    if (count.iloc[i]['month_mins']-count.iloc[i]['min'])*count.iloc[i]['price_1min']>0 and gain.iloc[i]['gain']!=(count.iloc[i]['month_mins']-count.iloc[i]['min'])*count.iloc[i]['price_1min']+(count.iloc[i]['month_sms']-count.iloc[i]['sms'])*count.iloc[i]['price_1sms']+(count.iloc[i]['month_gb']-count.iloc[i]['gb'])*count.iloc[i]['price_1gb']+count.iloc[i]['price']:\n",
    "      gain.iloc[i]['gain']=(count.iloc[i]['month_mins']-count.iloc[i]['min'])*count.iloc[i]['price_1min']+gain.iloc[i]['gain']\n",
    "    if (count.iloc[i]['month_sms']-count.iloc[i]['sms'])*count.iloc[i]['price_1sms']>0 and gain.iloc[i]['gain']!=(count.iloc[i]['month_mins']-count.iloc[i]['min'])*count.iloc[i]['price_1min']+(count.iloc[i]['month_sms']-count.iloc[i]['sms'])*count.iloc[i]['price_1sms']+(count.iloc[i]['month_gb']-count.iloc[i]['gb'])*count.iloc[i]['price_1gb']+count.iloc[i]['price']:\n",
    "      gain.iloc[i]['gain']=(count.iloc[i]['month_sms']-count.iloc[i]['sms'])*count.iloc[i]['price_1sms']+gain.iloc[i]['gain']\n",
    "    if (count.iloc[i]['month_gb']-count.iloc[i]['gb'])*count.iloc[i]['price_1gb']>0 and gain.iloc[i]['gain']!=(count.iloc[i]['month_mins']-count.iloc[i]['min'])*count.iloc[i]['price_1min']+(count.iloc[i]['month_sms']-count.iloc[i]['sms'])*count.iloc[i]['price_1sms']+(count.iloc[i]['month_gb']-count.iloc[i]['gb'])*count.iloc[i]['price_1gb']+count.iloc[i]['price']:\n",
    "      gain.iloc[i]['gain']=(count.iloc[i]['month_gb']-count.iloc[i]['gb'])*count.iloc[i]['price_1gb']+gain.iloc[i]['gain']"
   ]
  },
  {
   "cell_type": "markdown",
   "metadata": {},
   "source": [
    "Выручка за месяц с пользователя, если пользователь не истратил всё кол-во смс, минут и трафика, то в выручку записывается только абонентская плата. Если перерасход по любому из параметров он так же суммируется с абонентской платой."
   ]
  },
  {
   "cell_type": "code",
   "execution_count": 264,
   "metadata": {},
   "outputs": [
    {
     "data": {
      "text/html": [
       "<div>\n",
       "<style scoped>\n",
       "    .dataframe tbody tr th:only-of-type {\n",
       "        vertical-align: middle;\n",
       "    }\n",
       "\n",
       "    .dataframe tbody tr th {\n",
       "        vertical-align: top;\n",
       "    }\n",
       "\n",
       "    .dataframe thead th {\n",
       "        text-align: right;\n",
       "    }\n",
       "</style>\n",
       "<table border=\"1\" class=\"dataframe\">\n",
       "  <thead>\n",
       "    <tr style=\"text-align: right;\">\n",
       "      <th></th>\n",
       "      <th>gain</th>\n",
       "    </tr>\n",
       "  </thead>\n",
       "  <tbody>\n",
       "    <tr>\n",
       "      <th>0</th>\n",
       "      <td>1388.0</td>\n",
       "    </tr>\n",
       "    <tr>\n",
       "      <th>1</th>\n",
       "      <td>6354.0</td>\n",
       "    </tr>\n",
       "    <tr>\n",
       "      <th>2</th>\n",
       "      <td>6843.0</td>\n",
       "    </tr>\n",
       "    <tr>\n",
       "      <th>3</th>\n",
       "      <td>8293.0</td>\n",
       "    </tr>\n",
       "    <tr>\n",
       "      <th>4</th>\n",
       "      <td>8235.0</td>\n",
       "    </tr>\n",
       "    <tr>\n",
       "      <th>...</th>\n",
       "      <td>...</td>\n",
       "    </tr>\n",
       "    <tr>\n",
       "      <th>47995</th>\n",
       "      <td>7286.0</td>\n",
       "    </tr>\n",
       "    <tr>\n",
       "      <th>47996</th>\n",
       "      <td>1647.0</td>\n",
       "    </tr>\n",
       "    <tr>\n",
       "      <th>47997</th>\n",
       "      <td>1023.0</td>\n",
       "    </tr>\n",
       "    <tr>\n",
       "      <th>47998</th>\n",
       "      <td>1691.0</td>\n",
       "    </tr>\n",
       "    <tr>\n",
       "      <th>47999</th>\n",
       "      <td>1643.0</td>\n",
       "    </tr>\n",
       "  </tbody>\n",
       "</table>\n",
       "<p>48000 rows × 1 columns</p>\n",
       "</div>"
      ],
      "text/plain": [
       "         gain\n",
       "0      1388.0\n",
       "1      6354.0\n",
       "2      6843.0\n",
       "3      8293.0\n",
       "4      8235.0\n",
       "...       ...\n",
       "47995  7286.0\n",
       "47996  1647.0\n",
       "47997  1023.0\n",
       "47998  1691.0\n",
       "47999  1643.0\n",
       "\n",
       "[48000 rows x 1 columns]"
      ]
     },
     "execution_count": 264,
     "metadata": {},
     "output_type": "execute_result"
    }
   ],
   "source": [
    "gain"
   ]
  },
  {
   "cell_type": "code",
   "execution_count": 265,
   "metadata": {},
   "outputs": [],
   "source": [
    "count['gain']=gain['gain']"
   ]
  },
  {
   "cell_type": "markdown",
   "metadata": {},
   "source": [
    "# Анализ данных"
   ]
  },
  {
   "cell_type": "code",
   "execution_count": 275,
   "metadata": {},
   "outputs": [],
   "source": [
    "standard=count.loc[(count['tariff']=='Стандартный')&(count['month']==4)]"
   ]
  },
  {
   "cell_type": "code",
   "execution_count": 276,
   "metadata": {},
   "outputs": [
    {
     "data": {
      "text/plain": [
       "count    2358.000000\n",
       "mean      228.170908\n",
       "std        23.998180\n",
       "min       148.000000\n",
       "25%       211.000000\n",
       "50%       228.000000\n",
       "75%       244.000000\n",
       "max       313.000000\n",
       "Name: month_mins, dtype: float64"
      ]
     },
     "execution_count": 276,
     "metadata": {},
     "output_type": "execute_result"
    }
   ],
   "source": [
    "standard['month_mins'].describe()"
   ]
  },
  {
   "cell_type": "code",
   "execution_count": 277,
   "metadata": {},
   "outputs": [
    {
     "data": {
      "text/plain": [
       "575.6684157157968"
      ]
     },
     "execution_count": 277,
     "metadata": {},
     "output_type": "execute_result"
    }
   ],
   "source": [
    "np.var(standard['month_mins'])"
   ]
  },
  {
   "cell_type": "code",
   "execution_count": 278,
   "metadata": {},
   "outputs": [
    {
     "data": {
      "text/plain": [
       "count    2358.000000\n",
       "mean       49.949534\n",
       "std         2.817832\n",
       "min        41.000000\n",
       "25%        48.000000\n",
       "50%        50.000000\n",
       "75%        52.000000\n",
       "max        60.000000\n",
       "Name: month_sms, dtype: float64"
      ]
     },
     "execution_count": 278,
     "metadata": {},
     "output_type": "execute_result"
    }
   ],
   "source": [
    "standard['month_sms'].describe()"
   ]
  },
  {
   "cell_type": "code",
   "execution_count": 279,
   "metadata": {},
   "outputs": [
    {
     "data": {
      "text/plain": [
       "7.936808518597661"
      ]
     },
     "execution_count": 279,
     "metadata": {},
     "output_type": "execute_result"
    }
   ],
   "source": [
    "np.var(standard['month_sms'])"
   ]
  },
  {
   "cell_type": "code",
   "execution_count": 280,
   "metadata": {},
   "outputs": [
    {
     "data": {
      "text/plain": [
       "count    2358.000000\n",
       "mean       76.056993\n",
       "std         7.510454\n",
       "min        54.580000\n",
       "25%        70.795000\n",
       "50%        76.040000\n",
       "75%        80.985000\n",
       "max       104.240000\n",
       "Name: month_gb, dtype: float64"
      ]
     },
     "execution_count": 280,
     "metadata": {},
     "output_type": "execute_result"
    }
   ],
   "source": [
    "standard['month_gb'].describe()"
   ]
  },
  {
   "cell_type": "code",
   "execution_count": 281,
   "metadata": {},
   "outputs": [
    {
     "data": {
      "text/plain": [
       "56.3829931220914"
      ]
     },
     "execution_count": 281,
     "metadata": {},
     "output_type": "execute_result"
    }
   ],
   "source": [
    "np.var(standard['month_gb'])"
   ]
  },
  {
   "cell_type": "code",
   "execution_count": 282,
   "metadata": {},
   "outputs": [
    {
     "data": {
      "text/plain": [
       "<AxesSubplot:>"
      ]
     },
     "execution_count": 282,
     "metadata": {},
     "output_type": "execute_result"
    },
    {
     "data": {
      "image/png": "[encoded data removed]",
      "text/plain": [
       "<Figure size 432x288 with 1 Axes>"
      ]
     },
     "metadata": {
      "needs_background": "light"
     },
     "output_type": "display_data"
    }
   ],
   "source": [
    "standard['month_mins'].hist()"
   ]
  },
  {
   "cell_type": "code",
   "execution_count": 283,
   "metadata": {},
   "outputs": [
    {
     "data": {
      "text/plain": [
       "<AxesSubplot:>"
      ]
     },
     "execution_count": 283,
     "metadata": {},
     "output_type": "execute_result"
    },
    {
     "data": {
      "image/png": "[encoded data removed]",
      "text/plain": [
       "<Figure size 432x288 with 1 Axes>"
      ]
     },
     "metadata": {
      "needs_background": "light"
     },
     "output_type": "display_data"
    }
   ],
   "source": [
    "standard['month_sms'].hist()"
   ]
  },
  {
   "cell_type": "code",
   "execution_count": 284,
   "metadata": {},
   "outputs": [
    {
     "data": {
      "text/plain": [
       "<AxesSubplot:>"
      ]
     },
     "execution_count": 284,
     "metadata": {},
     "output_type": "execute_result"
    },
    {
     "data": {
      "image/png": "[encoded data removed]",
      "text/plain": [
       "<Figure size 432x288 with 1 Axes>"
      ]
     },
     "metadata": {
      "needs_background": "light"
     },
     "output_type": "display_data"
    }
   ],
   "source": [
    "standard['month_gb'].hist()"
   ]
  },
  {
   "cell_type": "code",
   "execution_count": 285,
   "metadata": {},
   "outputs": [],
   "source": [
    "VIP=count.loc[(count['tariff']=='VIP')&(count['month']==4)]"
   ]
  },
  {
   "cell_type": "code",
   "execution_count": 286,
   "metadata": {},
   "outputs": [
    {
     "data": {
      "text/plain": [
       "count    1163.000000\n",
       "mean     1248.221840\n",
       "std        97.729688\n",
       "min       970.000000\n",
       "25%      1181.500000\n",
       "50%      1247.000000\n",
       "75%      1315.000000\n",
       "max      1604.000000\n",
       "Name: month_mins, dtype: float64"
      ]
     },
     "execution_count": 286,
     "metadata": {},
     "output_type": "execute_result"
    }
   ],
   "source": [
    "VIP['month_mins'].describe()"
   ]
  },
  {
   "cell_type": "code",
   "execution_count": 287,
   "metadata": {},
   "outputs": [
    {
     "data": {
      "text/plain": [
       "count    1163.000000\n",
       "mean       37.591574\n",
       "std         2.536989\n",
       "min        28.000000\n",
       "25%        36.000000\n",
       "50%        38.000000\n",
       "75%        39.000000\n",
       "max        46.000000\n",
       "Name: month_sms, dtype: float64"
      ]
     },
     "execution_count": 287,
     "metadata": {},
     "output_type": "execute_result"
    }
   ],
   "source": [
    "VIP['month_sms'].describe()"
   ]
  },
  {
   "cell_type": "code",
   "execution_count": 288,
   "metadata": {},
   "outputs": [
    {
     "data": {
      "text/plain": [
       "count    1163.000000\n",
       "mean       43.179407\n",
       "std         5.538814\n",
       "min        24.650000\n",
       "25%        39.350000\n",
       "50%        43.100000\n",
       "75%        46.850000\n",
       "max        59.070000\n",
       "Name: month_gb, dtype: float64"
      ]
     },
     "execution_count": 288,
     "metadata": {},
     "output_type": "execute_result"
    }
   ],
   "source": [
    "VIP['month_gb'].describe()"
   ]
  },
  {
   "cell_type": "code",
   "execution_count": 289,
   "metadata": {},
   "outputs": [
    {
     "data": {
      "text/plain": [
       "9542.879419829973"
      ]
     },
     "execution_count": 289,
     "metadata": {},
     "output_type": "execute_result"
    }
   ],
   "source": [
    "np.var(VIP['month_mins'])"
   ]
  },
  {
   "cell_type": "code",
   "execution_count": 290,
   "metadata": {},
   "outputs": [
    {
     "data": {
      "text/plain": [
       "6.430780241155902"
      ]
     },
     "execution_count": 290,
     "metadata": {},
     "output_type": "execute_result"
    }
   ],
   "source": [
    "np.var(VIP['month_sms'])"
   ]
  },
  {
   "cell_type": "code",
   "execution_count": 291,
   "metadata": {},
   "outputs": [
    {
     "data": {
      "text/plain": [
       "30.652084170789085"
      ]
     },
     "execution_count": 291,
     "metadata": {},
     "output_type": "execute_result"
    }
   ],
   "source": [
    "np.var(VIP['month_gb'])"
   ]
  },
  {
   "cell_type": "code",
   "execution_count": 292,
   "metadata": {},
   "outputs": [
    {
     "data": {
      "text/plain": [
       "<AxesSubplot:>"
      ]
     },
     "execution_count": 292,
     "metadata": {},
     "output_type": "execute_result"
    },
    {
     "data": {
      "image/png": "[encoded data removed]",
      "text/plain": [
       "<Figure size 432x288 with 1 Axes>"
      ]
     },
     "metadata": {
      "needs_background": "light"
     },
     "output_type": "display_data"
    }
   ],
   "source": [
    "VIP['month_mins'].hist()"
   ]
  },
  {
   "cell_type": "code",
   "execution_count": 293,
   "metadata": {},
   "outputs": [
    {
     "data": {
      "text/plain": [
       "<AxesSubplot:>"
      ]
     },
     "execution_count": 293,
     "metadata": {},
     "output_type": "execute_result"
    },
    {
     "data": {
      "image/png": "[encoded data removed]",
      "text/plain": [
       "<Figure size 432x288 with 1 Axes>"
      ]
     },
     "metadata": {
      "needs_background": "light"
     },
     "output_type": "display_data"
    }
   ],
   "source": [
    "VIP['month_sms'].hist()"
   ]
  },
  {
   "cell_type": "code",
   "execution_count": 294,
   "metadata": {},
   "outputs": [
    {
     "data": {
      "text/plain": [
       "<AxesSubplot:>"
      ]
     },
     "execution_count": 294,
     "metadata": {},
     "output_type": "execute_result"
    },
    {
     "data": {
      "image/png": "[encoded data removed]",
      "text/plain": [
       "<Figure size 432x288 with 1 Axes>"
      ]
     },
     "metadata": {
      "needs_background": "light"
     },
     "output_type": "display_data"
    }
   ],
   "source": [
    "VIP['month_gb'].hist()"
   ]
  },
  {
   "cell_type": "code",
   "execution_count": 295,
   "metadata": {},
   "outputs": [],
   "source": [
    "Premium=count.loc[(count['tariff']=='Премиум')&(count['month']==4)]"
   ]
  },
  {
   "cell_type": "code",
   "execution_count": 296,
   "metadata": {},
   "outputs": [
    {
     "data": {
      "text/plain": [
       "count     479.000000\n",
       "mean     2490.891441\n",
       "std       239.417976\n",
       "min      1828.000000\n",
       "25%      2335.000000\n",
       "50%      2487.000000\n",
       "75%      2638.000000\n",
       "max      3262.000000\n",
       "Name: month_mins, dtype: float64"
      ]
     },
     "execution_count": 296,
     "metadata": {},
     "output_type": "execute_result"
    }
   ],
   "source": [
    "Premium['month_mins'].describe()"
   ]
  },
  {
   "cell_type": "code",
   "execution_count": 297,
   "metadata": {},
   "outputs": [
    {
     "data": {
      "text/plain": [
       "count    479.000000\n",
       "mean     416.064718\n",
       "std       38.584987\n",
       "min      312.000000\n",
       "25%      391.000000\n",
       "50%      416.000000\n",
       "75%      443.500000\n",
       "max      528.000000\n",
       "Name: month_sms, dtype: float64"
      ]
     },
     "execution_count": 297,
     "metadata": {},
     "output_type": "execute_result"
    }
   ],
   "source": [
    "Premium['month_sms'].describe()"
   ]
  },
  {
   "cell_type": "code",
   "execution_count": 298,
   "metadata": {},
   "outputs": [
    {
     "data": {
      "text/plain": [
       "count    479.000000\n",
       "mean      61.965261\n",
       "std        7.654181\n",
       "min       41.800000\n",
       "25%       56.580000\n",
       "50%       61.770000\n",
       "75%       67.270000\n",
       "max       88.730000\n",
       "Name: month_gb, dtype: float64"
      ]
     },
     "execution_count": 298,
     "metadata": {},
     "output_type": "execute_result"
    }
   ],
   "source": [
    "Premium['month_gb'].describe()"
   ]
  },
  {
   "cell_type": "code",
   "execution_count": 299,
   "metadata": {},
   "outputs": [
    {
     "data": {
      "text/plain": [
       "<AxesSubplot:>"
      ]
     },
     "execution_count": 299,
     "metadata": {},
     "output_type": "execute_result"
    },
    {
     "data": {
      "image/png": "[encoded data removed]",
      "text/plain": [
       "<Figure size 432x288 with 1 Axes>"
      ]
     },
     "metadata": {
      "needs_background": "light"
     },
     "output_type": "display_data"
    }
   ],
   "source": [
    "Premium['month_mins'].hist()"
   ]
  },
  {
   "cell_type": "code",
   "execution_count": 300,
   "metadata": {},
   "outputs": [
    {
     "data": {
      "text/plain": [
       "<AxesSubplot:>"
      ]
     },
     "execution_count": 300,
     "metadata": {},
     "output_type": "execute_result"
    },
    {
     "data": {
      "image/png": "[encoded data removed]",
      "text/plain": [
       "<Figure size 432x288 with 1 Axes>"
      ]
     },
     "metadata": {
      "needs_background": "light"
     },
     "output_type": "display_data"
    }
   ],
   "source": [
    "Premium['month_sms'].hist()"
   ]
  },
  {
   "cell_type": "code",
   "execution_count": 301,
   "metadata": {},
   "outputs": [
    {
     "data": {
      "text/plain": [
       "<AxesSubplot:>"
      ]
     },
     "execution_count": 301,
     "metadata": {},
     "output_type": "execute_result"
    },
    {
     "data": {
      "image/png": "[encoded data removed]",
      "text/plain": [
       "<Figure size 432x288 with 1 Axes>"
      ]
     },
     "metadata": {
      "needs_background": "light"
     },
     "output_type": "display_data"
    }
   ],
   "source": [
    "Premium['month_gb'].hist()"
   ]
  },
  {
   "cell_type": "markdown",
   "metadata": {},
   "source": [
    "Стандартный тариф используют 2358 пользователей. За 4й месяц они использовали от 148 до 313 минут разговора, от 41 до 60 смс, от 54.58 до 104.24 гб траффика. VIP тариф используют 1163 пользователя. За 4й месяц они использовали от 970 до 1604 минут разговора, от 28 до 46 смс, от 24.65 до 59.07 гб траффика. Премиум используют 479 пользователей. За 4й месяц они использовали от 1828 до 3262 минут разговора, от 312 до 528 смс, от 41.8 до 88.73 гб траффика. Все распределения являются нормальными."
   ]
  },
  {
   "cell_type": "markdown",
   "metadata": {},
   "source": [
    "# Проверка гипотез"
   ]
  },
  {
   "cell_type": "code",
   "execution_count": 302,
   "metadata": {},
   "outputs": [
    {
     "data": {
      "text/plain": [
       "566547.401537077"
      ]
     },
     "execution_count": 302,
     "metadata": {},
     "output_type": "execute_result"
    }
   ],
   "source": [
    "np.var(standard['gain'])"
   ]
  },
  {
   "cell_type": "code",
   "execution_count": 303,
   "metadata": {},
   "outputs": [
    {
     "data": {
      "text/plain": [
       "12177.097054982038"
      ]
     },
     "execution_count": 303,
     "metadata": {},
     "output_type": "execute_result"
    }
   ],
   "source": [
    "np.var(VIP['gain'])"
   ]
  },
  {
   "cell_type": "code",
   "execution_count": 304,
   "metadata": {},
   "outputs": [
    {
     "data": {
      "text/plain": [
       "21312.5914265541"
      ]
     },
     "execution_count": 304,
     "metadata": {},
     "output_type": "execute_result"
    }
   ],
   "source": [
    "np.var(Premium['gain'])"
   ]
  },
  {
   "cell_type": "code",
   "execution_count": 305,
   "metadata": {},
   "outputs": [
    {
     "data": {
      "text/plain": [
       "<AxesSubplot:>"
      ]
     },
     "execution_count": 305,
     "metadata": {},
     "output_type": "execute_result"
    },
    {
     "data": {
      "image/png": "[encoded data removed]",
      "text/plain": [
       "<Figure size 432x288 with 1 Axes>"
      ]
     },
     "metadata": {
      "needs_background": "light"
     },
     "output_type": "display_data"
    }
   ],
   "source": [
    "standard['gain'].hist()"
   ]
  },
  {
   "cell_type": "code",
   "execution_count": 306,
   "metadata": {},
   "outputs": [
    {
     "data": {
      "text/plain": [
       "<AxesSubplot:>"
      ]
     },
     "execution_count": 306,
     "metadata": {},
     "output_type": "execute_result"
    },
    {
     "data": {
      "image/png": "[encoded data removed]",
      "text/plain": [
       "<Figure size 432x288 with 1 Axes>"
      ]
     },
     "metadata": {
      "needs_background": "light"
     },
     "output_type": "display_data"
    }
   ],
   "source": [
    "VIP['gain'].hist()"
   ]
  },
  {
   "cell_type": "code",
   "execution_count": 307,
   "metadata": {},
   "outputs": [
    {
     "data": {
      "text/plain": [
       "<AxesSubplot:>"
      ]
     },
     "execution_count": 307,
     "metadata": {},
     "output_type": "execute_result"
    },
    {
     "data": {
      "image/png": "[encoded data removed]",
      "text/plain": [
       "<Figure size 432x288 with 1 Axes>"
      ]
     },
     "metadata": {
      "needs_background": "light"
     },
     "output_type": "display_data"
    }
   ],
   "source": [
    "Premium['gain'].hist()"
   ]
  },
  {
   "cell_type": "code",
   "execution_count": 313,
   "metadata": {},
   "outputs": [
    {
     "name": "stdout",
     "output_type": "stream",
     "text": [
      "p-значение: 0.0\n",
      "Отвергаем нулевую гипотезу\n"
     ]
    }
   ],
   "source": [
    "from scipy import stats as st\n",
    "import numpy as np\n",
    "\n",
    "alpha = 0.05\n",
    "\n",
    "results = st.ttest_ind(standard['gain'], VIP['gain'], equal_var = False)\n",
    "\n",
    "print('p-значение:', results.pvalue)\n",
    "\n",
    "if results.pvalue < alpha:\n",
    "    print(\"Отвергаем нулевую гипотезу\")\n",
    "else:\n",
    "    print(\"Не получилось отвергнуть нулевую гипотезу\")"
   ]
  },
  {
   "cell_type": "code",
   "execution_count": 314,
   "metadata": {},
   "outputs": [
    {
     "name": "stdout",
     "output_type": "stream",
     "text": [
      "p-значение: 0.0\n",
      "Отвергаем нулевую гипотезу: скорее всего средняя выручка пользователей тарифа «Премиум» больше чем средняя выручка пользователей тарифа «VIP»\n"
     ]
    }
   ],
   "source": [
    "from scipy import stats as st\n",
    "import numpy as np\n",
    "\n",
    "alpha = 0.05\n",
    "\n",
    "results = st.ttest_ind(VIP['gain'], Premium['gain'], equal_var = False)\n",
    "\n",
    "print('p-значение:', results.pvalue/2)\n",
    "\n",
    "if (results.pvalue/2 < alpha) and (Premium['gain'].mean()>VIP['gain'].mean()):\n",
    "    print(\"Отвергаем нулевую гипотезу: скорее всего средняя выручка пользователей тарифа «Премиум» больше чем средняя выручка пользователей тарифа «VIP»\")\n",
    "else:\n",
    "    print(\"Не получилось отвергнуть нулевую гипотезу: средняя выручка пользователей тарифа «Премиум» не больше чем средняя выручка пользователей тарифа «VIP»\")"
   ]
  },
  {
   "cell_type": "markdown",
   "metadata": {},
   "source": [
    "Гипотеза средняя выручка пользователей тарифов «VIP», «Стандартный» различаются. Нулевая гпотеза: средние выручки равны, альтернативная гипотеза: средние выручки не равны. Применим метод scipy.stats.ttest_ind чтобы проверить гипотезу о равенстве среднего двух генеральных совокупностей. Гипотеза двусторонняя. Дисперсии выборок не равны. \n",
    "Гипотеза средняя выручка пользователей тарифа «Премиум» больше чем средняя выручка пользователей тарифа «VIP». Нулевая гпотеза: средние выручки равны, альтернативная гипотеза: средняя выручка пользователей тарифа «Премиум» больше. Применим метод scipy.stats.ttest_ind чтобы проверить гипотезу о равенстве среднего двух генеральных совокупностей. Гипотеза односторонняя. Дисперсии выборок не равны. "
   ]
  },
  {
   "cell_type": "markdown",
   "metadata": {},
   "source": [
    "# Вывод"
   ]
  },
  {
   "cell_type": "markdown",
   "metadata": {},
   "source": [
    "В результате работы были обработанны и проанализированны данные о пользователях трех тарифов. В результате проверки статистических гипотез были отвергнуты нулевые гипотезы"
   ]
  },
  {
   "cell_type": "code",
   "execution_count": null,
   "metadata": {},
   "outputs": [],
   "source": []
  }
 ],
 "metadata": {
  "kernelspec": {
   "display_name": "Python 3",
   "language": "python",
   "name": "python3"
  },
  "language_info": {
   "codemirror_mode": {
    "name": "ipython",
    "version": 3
   },
   "file_extension": ".py",
   "mimetype": "text/x-python",
   "name": "python",
   "nbconvert_exporter": "python",
   "pygments_lexer": "ipython3",
   "version": "3.8.8"
  }
 },
 "nbformat": 4,
 "nbformat_minor": 2
}
